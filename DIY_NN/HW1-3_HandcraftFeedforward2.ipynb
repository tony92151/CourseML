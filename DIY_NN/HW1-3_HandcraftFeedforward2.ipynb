{
 "cells": [
  {
   "cell_type": "code",
   "execution_count": 5,
   "metadata": {},
   "outputs": [],
   "source": [
    "import numpy as np"
   ]
  },
  {
   "cell_type": "code",
   "execution_count": 6,
   "metadata": {},
   "outputs": [],
   "source": [
    "np.random.seed(1234)\n",
    "A = np.random.randint(-2,3,size=(6,4))\n",
    "b = np.random.randint(-2,3,size=(6))\n",
    "C = np.random.randint(-2,3,size=(3,6))\n",
    "d = np.random.randint(-2,3,size=(3))\n",
    "x = np.random.randint(-2,3,size=(4))"
   ]
  },
  {
   "cell_type": "code",
   "execution_count": 7,
   "metadata": {},
   "outputs": [],
   "source": [
    "def relu(x):\n",
    "    return np.maximum(x, 0)\n",
    "def sigmoid(x):\n",
    "    return 1/(1+np.exp(-x))"
   ]
  },
  {
   "cell_type": "code",
   "execution_count": 8,
   "metadata": {},
   "outputs": [],
   "source": [
    "i = 13\n",
    "x = np.array([i%2, (i>>1)%2, (i>>2)%2, (i>>3)%2])\n",
    "#print(x)\n",
    "#print(i%4)"
   ]
  },
  {
   "cell_type": "code",
   "execution_count": 9,
   "metadata": {},
   "outputs": [],
   "source": [
    "def creatData(mod):\n",
    "    data = []\n",
    "    ans = []\n",
    "    for i in range(50000):\n",
    "        n = np.random.randint(0,16)\n",
    "        yu = n%mod\n",
    "        x = np.array([[n%2], [(n>>1)%2], [(n>>2)%2], [(n>>3)%2]])\n",
    "        data.append(x)\n",
    "        ans.append(yu)\n",
    "    return np.array(data), np.array(ans)\n",
    "    \n",
    "#test_X,test_Y = creatData(3)"
   ]
  },
  {
   "cell_type": "markdown",
   "metadata": {},
   "source": [
    "# Mod4"
   ]
  },
  {
   "cell_type": "code",
   "execution_count": 10,
   "metadata": {},
   "outputs": [],
   "source": [
    "test_X,test_Y = creatData(4)\n",
    "#test_X = test_X.swapaxes(1,2)\n",
    "w = np.array([[-1,-1,0,0],\n",
    "              [1,-1,0,0],\n",
    "              [-1,1,0,0],\n",
    "              [1,0,0,0]])\n",
    "b = np.array([1,0,0,0])\n",
    "#for i in range(len(test_Y)):\n",
    "ans = np.array([(w @ t).argmax() for t in test_X])"
   ]
  },
  {
   "cell_type": "code",
   "execution_count": 11,
   "metadata": {},
   "outputs": [
    {
     "name": "stdout",
     "output_type": "stream",
     "text": [
      "Mod 4 :  1.0\n"
     ]
    }
   ],
   "source": [
    "print(\"Mod 4 : \",(ans==test_Y).mean())"
   ]
  },
  {
   "cell_type": "markdown",
   "metadata": {},
   "source": [
    "# Mod3"
   ]
  },
  {
   "cell_type": "code",
   "execution_count": 12,
   "metadata": {},
   "outputs": [],
   "source": [
    "test_X,test_Y = creatData(3)\n",
    "w = np.array([[-1.4, -0.1,  2.8, -7.4],\n",
    "              [ 7.4, -3.2, -3. , -1.9],\n",
    "              [-0.5,  6. , -4.4,  5. ]])\n",
    "b = np.array([[ 5.3],\n",
    "              [-1.4],\n",
    "              [-4. ]])\n",
    "\n",
    "ans = np.array([(w @ t+b).argmax() for t in test_X])"
   ]
  },
  {
   "cell_type": "code",
   "execution_count": 13,
   "metadata": {},
   "outputs": [
    {
     "name": "stdout",
     "output_type": "stream",
     "text": [
      "0.56552\n"
     ]
    }
   ],
   "source": [
    "print((ans==test_Y).mean())"
   ]
  },
  {
   "cell_type": "markdown",
   "metadata": {},
   "source": [
    "# 3x3 board"
   ]
  },
  {
   "cell_type": "code",
   "execution_count": 14,
   "metadata": {},
   "outputs": [],
   "source": [
    "def Random_Matrix(row,column,start,finish):   \n",
    "    matrix = np.random.randint(start,finish, size=(column,row))\n",
    "    return np.array(matrix)\n",
    "Matrix = []\n",
    "Matrix.append([[1, 1, 1],[0, 0, 0],[0, 0, 0]])\n",
    "Matrix.append([[0, 0, 0],[1, 1, 1],[0, 0, 0]])\n",
    "Matrix.append([[0, 0, 0],[0, 0, 0],[1, 1, 1]])\n",
    "Matrix.append([[1, 0, 0],[1, 0, 0],[1, 0, 0]])\n",
    "Matrix.append([[0, 1, 0],[0, 1, 0],[0, 1, 0]])\n",
    "Matrix.append([[0, 0, 1],[0, 0, 1],[0, 0, 1]])\n",
    "Matrix.append([[1, 0, 0],[0, 1, 0],[0, 0, 1]])\n",
    "Matrix.append([[0, 0, 1],[0, 1, 0],[1, 0, 0]])\n",
    "Matrix.append([[0, 0, 0],[0, 0, 0],[0, 0, 0]])\n",
    "Matrix_array = np.array(Matrix)\n",
    "\n",
    "Matrix_array[8]\n",
    "test_Matrix= Random_Matrix(3,3,0,2)\n",
    "\n",
    "\n",
    "def find_Matrix_situation(test_Matrix,Matrix_array):\n",
    "    Matrix_situation=np.array([1,0])\n",
    "    sumofmatrix=0\n",
    "    for i in range(8):\n",
    "        Matrix_multiplication=test_Matrix*Matrix_array[i]\n",
    "        sumofmatrix = Matrix_multiplication.sum()\n",
    "        if(sumofmatrix==3):\n",
    "            Matrix_situation=np.array([0,1])\n",
    "            return Matrix_situation,i,sumofmatrix\n",
    "    return Matrix_situation,8,sumofmatrix   \n",
    "\n",
    "\n",
    "def test(times):\n",
    "    for j in range(times):\n",
    "        test_Matrix= Random_Matrix(3,3,0,2)\n",
    "        Matrix_situation,i,sumofmatrix=find_Matrix_situation(test_Matrix,Matrix_array)\n",
    "        print(\"test_Matrix:\")\n",
    "        print(test_Matrix)\n",
    "        print(\"match_pattern:\")\n",
    "        print(np.array(Matrix_array[i]))\n",
    "        print(\"Matrix_multiplication\")\n",
    "    if (i<8):\n",
    "        print(test_Matrix*Matrix_array[i])\n",
    "    else:\n",
    "        print(\"[0]\")\n",
    "    print(\"sumofmatrix\",sumofmatrix)\n",
    "    print(\"Matrix_situation:\",Matrix_situation)\n"
   ]
  },
  {
   "cell_type": "code",
   "execution_count": null,
   "metadata": {},
   "outputs": [],
   "source": [
    "\n"
   ]
  },
  {
   "cell_type": "code",
   "execution_count": 15,
   "metadata": {},
   "outputs": [],
   "source": [
    "def creatData2(times):\n",
    "    data = []\n",
    "    ans = []\n",
    "    for j in range(times):\n",
    "        test_Matrix= Random_Matrix(3,3,0,2)\n",
    "        Matrix_situation,i,sumofmatrix=find_Matrix_situation(test_Matrix,Matrix_array)\n",
    "        data.append(test_Matrix)\n",
    "        ans.append(Matrix_situation)\n",
    "    return np.array(data), np.array(ans)\n",
    "    \n",
    "\n",
    "train_X,train_Y = creatData2(10000)"
   ]
  },
  {
   "cell_type": "code",
   "execution_count": 16,
   "metadata": {},
   "outputs": [
    {
     "name": "stdout",
     "output_type": "stream",
     "text": [
      "[[[1 0 0]\n",
      "  [1 0 0]\n",
      "  [1 0 0]]\n",
      "\n",
      " [[0 1 0]\n",
      "  [0 1 1]\n",
      "  [1 1 0]]\n",
      "\n",
      " [[1 1 1]\n",
      "  [0 1 1]\n",
      "  [0 1 0]]]\n",
      "[[0 1]\n",
      " [0 1]\n",
      " [0 1]]\n"
     ]
    }
   ],
   "source": [
    "print(train_X[:3])\n",
    "print(train_Y[:3])"
   ]
  },
  {
   "cell_type": "code",
   "execution_count": 19,
   "metadata": {},
   "outputs": [],
   "source": [
    "\n",
    "W1 = np.array([[-2.7, -9.9 ,-2.9],\n",
    "                [-6.9, -1.7, -3.2],\n",
    "                [ 2.4, -7.8,  8.1],\n",
    "                [ 4.8, -2.1, -2.5],\n",
    "                [ 0.9, -4.1, -3.5],\n",
    "                [-7.9,  9.6,  4.8],\n",
    "                [-5.9,  3. ,  0.2],\n",
    "                [-2.7,  2.2,  6.6],\n",
    "                [ 9.9, -1.6, -1.9],\n",
    "                [ 4.4, -8.1, -1.6]])\n",
    "W2 = np.array([[-9.4,  4.7, -9.3, -8.,  -7.5, -4.4,  6.1,  5.5, -7.9,  1.7],\n",
    "               [ 1.9,  6.3,  3.6, -2.2, -0.8,  1.1,  1.2, -1.,   4.8,  6.2]])\n",
    "W3 = np.array([[8.1],\n",
    "               [1.5],\n",
    "               [1.7]])\n",
    "b = np.array([[ -1.5,   9.5,   3.4],\n",
    "              [ -7.4,   4.2,   6.3],\n",
    "              [  5.2,   9. ,   2.8],\n",
    "              [  3.6,  -6.8,  -0.4],\n",
    "              [ -7.3,  -7.3,   7.8],\n",
    "              [  1. ,   5. ,  -2.2],\n",
    "              [-10. ,  -7.8,   2.4],\n",
    "              [  2.6,   7.7,  -2.1],\n",
    "              [ -5.3,   1.3,   6. ],\n",
    "              [ -0.7,   3.2,   5.3]])\n",
    "ans = np.array([sigmoid((relu(W2@(relu(W1 @ t+b))))@W3).argmax() for t in train_X])\n",
    "#print(ans)\n",
    "#print(train_Y)\n",
    "#peic = (ans==train_Y.argmax()).mean()\n"
   ]
  },
  {
   "cell_type": "code",
   "execution_count": 20,
   "metadata": {},
   "outputs": [
    {
     "name": "stdout",
     "output_type": "stream",
     "text": [
      "1.0\n"
     ]
    }
   ],
   "source": [
    "print((ans==train_Y.argmax()).mean())"
   ]
  },
  {
   "cell_type": "code",
   "execution_count": null,
   "metadata": {},
   "outputs": [],
   "source": []
  }
 ],
 "metadata": {
  "kernelspec": {
   "display_name": "Python 3",
   "language": "python",
   "name": "python3"
  },
  "language_info": {
   "codemirror_mode": {
    "name": "ipython",
    "version": 3
   },
   "file_extension": ".py",
   "mimetype": "text/x-python",
   "name": "python",
   "nbconvert_exporter": "python",
   "pygments_lexer": "ipython3",
   "version": "3.7.1"
  }
 },
 "nbformat": 4,
 "nbformat_minor": 2
}
