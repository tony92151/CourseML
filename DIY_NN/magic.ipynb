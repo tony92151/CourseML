{
 "cells": [
  {
   "cell_type": "code",
   "execution_count": 1,
   "metadata": {
    "collapsed": true
   },
   "outputs": [],
   "source": [
    "import numpy as np\n",
    "\n",
    "def Matrix(*a):\n",
    "    if len(a)==1 and isinstance(a[0], np.ndarray):\n",
    "        a = a[0]\n",
    "    return np.array([[float(x) for x in r] for r in a])\n",
    "\n",
    "def Vector(*a):\n",
    "    if len(a)==1 and isinstance(a[0], np.ndarray):\n",
    "        a = a[0]\n",
    "    return np.array([float(x) for x in a]).reshape(-1,1)\n",
    "\n",
    "# Black magic\n",
    "from IPython.display import Latex, SVG, display\n",
    "from IPython.core.interactiveshell import InteractiveShell\n",
    "\n",
    "def ndarray_to_latex(arr): \n",
    "    if len(arr.shape)==1: \n",
    "        arr=arr.reshape(1,-1)\n",
    "    if len(arr.shape) == 2:\n",
    "        if max(arr.shape) > 30:\n",
    "            return None\n",
    "        str_arr = np.vectorize(\"{:.3f}\".format)(arr)\n",
    "        return r'\\begin{{pmatrix}}{}\\end{{pmatrix}}'.format(r'\\\\ '.join(map('&'.join, str_arr))) \n",
    "    if len(arr.shape) == 3 and arr.shape[2]==1:\n",
    "        if max(arr.shape) > 30:\n",
    "            return None\n",
    "        arr = arr[:,:,0]\n",
    "        str_arr = np.vectorize(\"{:.3f}\".format)(arr)\n",
    "        return r'\\begin{{bmatrix}}[{}]\\end{{bmatrix}}'.format(\n",
    "            r']\\\\ ['.join(map('&'.join, str_arr))) \n",
    "    return None\n",
    "sh = InteractiveShell.instance()\n",
    "sh.display_formatter.formatters['text/latex'].type_printers[np.ndarray]=ndarray_to_latex"
   ]
  },
  {
   "cell_type": "code",
   "execution_count": null,
   "metadata": {
    "collapsed": true
   },
   "outputs": [],
   "source": []
  }
 ],
 "metadata": {
  "kernelspec": {
   "display_name": "Python 3",
   "language": "python",
   "name": "python3"
  },
  "language_info": {
   "codemirror_mode": {
    "name": "ipython",
    "version": 3
   },
   "file_extension": ".py",
   "mimetype": "text/x-python",
   "name": "python",
   "nbconvert_exporter": "python",
   "pygments_lexer": "ipython3",
   "version": "3.6.5"
  }
 },
 "nbformat": 4,
 "nbformat_minor": 2
}
