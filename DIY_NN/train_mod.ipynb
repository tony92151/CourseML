{
 "cells": [
  {
   "cell_type": "code",
   "execution_count": 1,
   "metadata": {},
   "outputs": [],
   "source": [
    "import numpy as np\n",
    "np.random.seed(1234)"
   ]
  },
  {
   "cell_type": "code",
   "execution_count": 2,
   "metadata": {},
   "outputs": [],
   "source": [
    "def sigmoid(x):\n",
    "    return 1/(1+np.exp(-x))"
   ]
  },
  {
   "cell_type": "code",
   "execution_count": 9,
   "metadata": {},
   "outputs": [],
   "source": [
    "def creatData(mod):\n",
    "    data = []\n",
    "    ans = []\n",
    "    for i in range(50000):\n",
    "        n = np.random.randint(0,16)\n",
    "        yu = n%mod\n",
    "        x = np.array([[n%2], [(n>>1)%2], [(n>>2)%2], [(n>>3)%2]])\n",
    "        data.append(x)\n",
    "        ans.append(yu)\n",
    "    return np.array(data), np.array(ans)\n",
    "    \n",
    "train_X,train_Y = creatData(3)"
   ]
  },
  {
   "cell_type": "code",
   "execution_count": 10,
   "metadata": {},
   "outputs": [
    {
     "name": "stdout",
     "output_type": "stream",
     "text": [
      "[[[0]\n",
      "  [1]\n",
      "  [1]\n",
      "  [1]]\n",
      "\n",
      " [[0]\n",
      "  [1]\n",
      "  [1]\n",
      "  [1]]\n",
      "\n",
      " [[1]\n",
      "  [1]\n",
      "  [0]\n",
      "  [1]]\n",
      "\n",
      " [[0]\n",
      "  [1]\n",
      "  [0]\n",
      "  [0]]\n",
      "\n",
      " [[1]\n",
      "  [0]\n",
      "  [0]\n",
      "  [0]]]\n",
      "[2 2 2 2 1]\n"
     ]
    }
   ],
   "source": [
    "print(train_X[:5])\n",
    "print(train_Y[:5])"
   ]
  },
  {
   "cell_type": "code",
   "execution_count": 47,
   "metadata": {},
   "outputs": [],
   "source": [
    "n_data = train_X.shape[0]\n",
    "W = np.random.normal(size=(3, 4))\n",
    "W2 = np.random.normal(size=(3, 30))\n",
    "\n",
    "b = np.random.normal(size=(3, 1))\n",
    "loss_history = []\n",
    "accuracy_history = []\n",
    "lr = 0.005\n",
    "# idx = np.random.choice(n_data, 300, replace=False)\n",
    "# X = train_X[idx]\n",
    "# y = train_Y[idx]"
   ]
  },
  {
   "cell_type": "code",
   "execution_count": 48,
   "metadata": {},
   "outputs": [
    {
     "name": "stdout",
     "output_type": "stream",
     "text": [
      "0 0.424 1.3030296399453674\n",
      "500 0.381 1.3446340681346167\n",
      "1000 0.385 1.415285761994216\n",
      "1500 0.352 1.593385294190662\n",
      "2000 0.352 1.7581272286184153\n",
      "2500 0.383 1.7518930856523076\n",
      "3000 0.371 1.86452905619786\n",
      "3500 0.394 1.854125567169267\n",
      "4000 0.341 1.8999282883808493\n",
      "4500 0.307 1.9909034930373375\n",
      "5000 0.312 2.0462849091879733\n",
      "5500 0.33 2.015241293174729\n",
      "6000 0.316 2.0421408327053947\n",
      "6500 0.364 1.943562388936934\n",
      "7000 0.347 1.887670622933201\n",
      "7500 0.377 1.7638548519225745\n",
      "8000 0.364 1.6935223856111614\n",
      "8500 0.405 1.5027483427661725\n",
      "9000 0.361 1.4686415103531485\n",
      "9500 0.356 1.3850046906296158\n",
      "10000 0.439 1.2650076058451718\n",
      "10500 0.432 1.2102693709198435\n",
      "11000 0.371 1.1735918702731252\n",
      "11500 0.362 1.1393012504299818\n",
      "12000 0.376 1.1200356123196211\n",
      "12500 0.358 1.0977078748081595\n",
      "13000 0.391 1.0738728296776254\n",
      "13500 0.365 1.089246611506295\n",
      "14000 0.371 1.081099850754259\n",
      "14500 0.376 1.0839200305699273\n",
      "15000 0.447 1.0836629513112535\n",
      "15500 0.431 1.0855401902799642\n",
      "16000 0.443 1.0894157366120139\n",
      "16500 0.433 1.0904546142192457\n",
      "17000 0.437 1.0930234301669133\n",
      "17500 0.423 1.0953874226208153\n",
      "18000 0.446 1.0951331752742894\n",
      "18500 0.438 1.0960621131660389\n",
      "19000 0.378 1.0964777396248324\n",
      "19500 0.368 1.0964185628335503\n",
      "20000 0.381 1.0971159499843148\n",
      "20500 0.37 1.0974171307247058\n",
      "21000 0.394 1.0976995937095209\n",
      "21500 0.43 1.0978892729151284\n",
      "22000 0.454 1.0981674617070554\n",
      "22500 0.362 1.098253902808523\n",
      "23000 0.37 1.0983981566532002\n",
      "23500 0.356 1.0984589889090848\n",
      "24000 0.387 1.0984791960824036\n",
      "24500 0.366 1.0985326925824046\n",
      "25000 0.354 1.0985541297211712\n",
      "25500 0.375 1.0985739390335096\n",
      "26000 0.371 1.0985922659650902\n",
      "26500 0.374 1.0985931409534804\n",
      "27000 0.39 1.0986007123860078\n",
      "27500 0.385 1.0986039864628707\n",
      "28000 0.371 1.0986077689618805\n",
      "28500 0.394 1.0986092285080815\n",
      "29000 0.375 1.0986105191546809\n",
      "29500 0.369 1.098611176496887\n",
      "30000 0.38 1.0986117630329446\n",
      "30500 0.374 1.0986119502603324\n",
      "31000 0.373 1.0986120698356125\n",
      "31500 0.381 1.0986121483127311\n",
      "32000 0.399 1.0986121974321195\n",
      "32500 0.411 1.0986122341851066\n",
      "33000 0.352 1.0986122592212204\n",
      "33500 0.383 1.0986122723471463\n",
      "34000 0.375 1.0986122792956468\n",
      "34500 0.37 1.0986122836421124\n",
      "35000 0.369 1.0986122858360015\n",
      "35500 0.388 1.098612286866282\n",
      "36000 0.367 1.0986122877251805\n",
      "36500 0.372 1.0986122881802165\n",
      "37000 0.37 1.098612288434305\n",
      "37500 0.369 1.0986122885405845\n",
      "38000 0.366 1.0986122885981353\n",
      "38500 0.391 1.0986122886345207\n",
      "39000 0.374 1.0986122886514529\n",
      "39500 0.363 1.0986122886618324\n",
      "40000 0.393 1.0986122886638345\n",
      "40500 0.379 1.0986122886658363\n",
      "41000 0.373 1.0986122886667526\n",
      "41500 0.364 1.0986122886675693\n",
      "42000 0.353 1.0986122886678258\n",
      "42500 0.392 1.0986122886679774\n",
      "43000 0.364 1.0986122886680525\n",
      "43500 0.385 1.0986122886680778\n",
      "44000 0.387 1.098612288668096\n",
      "44500 0.399 1.0986122886681022\n",
      "45000 0.381 1.0986122886681071\n",
      "45500 0.34 1.0986122886681087\n",
      "46000 0.376 1.0986122886681091\n",
      "46500 0.362 1.0986122886681093\n",
      "47000 0.368 1.0986122886681096\n",
      "47500 0.374 1.0986122886681096\n",
      "48000 0.369 1.0986122886681096\n",
      "48500 0.369 1.0986122886681096\n",
      "49000 0.375 1.0986122886681096\n",
      "49500 0.373 1.0986122886681096\n"
     ]
    }
   ],
   "source": [
    "\n",
    "for epoch in range(50000):    \n",
    "    idx = np.random.choice(n_data, 1000, replace=False)\n",
    "    X = train_X[idx]\n",
    "    y = train_Y[idx]\n",
    "    one_y = np.eye(3)[y][..., None]\n",
    "    #d = np.exp(W @ X + b)\n",
    "    #d0 = sigmoid(W2 @ W)\n",
    "    d = sigmoid(W @ X + b)\n",
    "    #d2 = sigmoid(d @ w2)\n",
    "    q = d/d.sum(axis=(1,2), keepdims=True)\n",
    "    loss = -np.log(q[range(len(y)), y]).mean()\n",
    "    loss_history.append(loss)\n",
    "    accuracy = (q.argmax(axis=1).ravel() == y).mean()\n",
    "    accuracy_history.append(accuracy)\n",
    "    if epoch%500 == 0:\n",
    "        print(epoch, accuracy, loss)\n",
    "    grad_b_all = q - one_y\n",
    "    #grad_b_all = np.array([(np.diag(np.squeeze(g+(-1)))@g) for g in grad_b_all])\n",
    "    \n",
    "    grad_b_all = grad_b_all*(grad_b_all+(-1))\n",
    "    grad_b = grad_b_all.mean(axis=0)\n",
    "    grad_W_all = grad_b_all @ X.swapaxes(1,2)\n",
    "    grad_W = grad_W_all.mean(axis=0)\n",
    "    #grad_b = grad_b_all.mean(axis=0)\n",
    "    #grad = grad_b_all @ X.swapaxes(1,2)\n",
    "    #print(\"grad: \",grad.shape)\n",
    "    #print(\"X.swap: \",X.swapaxes(1,2).shape)\n",
    "    #print(\"W: \",W.reshape(-1,10,4).shape)\n",
    "    \n",
    "    ######\n",
    "    #grad_W2_all = np.dot(grad,W.swapaxes(0,1),axis=0)\n",
    "    \n",
    "    #grad_W2_all = np.array([(g @ W.swapaxes(0,1)) for g in grad])\n",
    "    #grad_W2_all = grad @ W.swapaxes(0,1)\n",
    "    \n",
    "    ######\n",
    "    #grad_W_all = np.array([(W2.swapaxes(0,1)@g) for g in grad])\n",
    "    \n",
    "    #grad_W_all = grad @ W2.swapaxes(0,1)\n",
    "    #print(\"grad_w: \",grad_W_all.shape)\n",
    "    #grad_W = grad_W_all.mean(axis=0)\n",
    "    #grad_W = grad_W_all\n",
    "    \n",
    "    #grad_W = grad_W_all.mean(axis=0)\n",
    "    #grad_W2 = grad_W2_all.mean(axis=0)\n",
    "    #W -= grad_W\n",
    "    #b -= grad_b  \n",
    "    #W2 -= 0.001*((5001-epoch)/5000)*grad_W2\n",
    "    W -= 0.001*((5001-epoch)/5000)*grad_W\n",
    "    #W2 -= 0.1*((5001-epoch)/5000)*grad_W2\n",
    "    b -= 0.001*((5001-epoch)/5000)*grad_b \n",
    "    #print(\"NO\")"
   ]
  },
  {
   "cell_type": "code",
   "execution_count": 49,
   "metadata": {},
   "outputs": [
    {
     "name": "stdout",
     "output_type": "stream",
     "text": [
      "[[27.68315951 27.15405968 28.65772309 26.3388655 ]\n",
      " [27.94534116 10.43838942 27.36459252 10.49091451]\n",
      " [11.0033248  29.45750436 12.32948992 27.27585985]]\n",
      "[[52.90144388]\n",
      " [39.10518988]\n",
      " [38.39242661]]\n"
     ]
    }
   ],
   "source": [
    "print(W)\n",
    "print(b)"
   ]
  },
  {
   "cell_type": "code",
   "execution_count": 50,
   "metadata": {},
   "outputs": [
    {
     "data": {
      "image/png": "[encoded data removed]",
      "text/plain": [
       "<Figure size 432x288 with 1 Axes>"
      ]
     },
     "metadata": {
      "needs_background": "light"
     },
     "output_type": "display_data"
    }
   ],
   "source": [
    "%matplotlib inline\n",
    "import matplotlib.pyplot as plt\n",
    "# 準確率的圖\n",
    "plt.plot(accuracy_history);"
   ]
  },
  {
   "cell_type": "code",
   "execution_count": 51,
   "metadata": {},
   "outputs": [
    {
     "data": {
      "image/png": "[encoded data removed]",
      "text/plain": [
       "<Figure size 432x288 with 1 Axes>"
      ]
     },
     "metadata": {
      "needs_background": "light"
     },
     "output_type": "display_data"
    }
   ],
   "source": [
    "plt.plot(loss_history);"
   ]
  },
  {
   "cell_type": "code",
   "execution_count": 52,
   "metadata": {},
   "outputs": [],
   "source": [
    "a = np.array([[2,3,4,5]])\n",
    "si = sigmoid(a.T)"
   ]
  },
  {
   "cell_type": "code",
   "execution_count": 19,
   "metadata": {},
   "outputs": [
    {
     "data": {
      "text/plain": [
       "array([[0.88079708],\n",
       "       [0.95257413],\n",
       "       [0.98201379],\n",
       "       [0.99330715]])"
      ]
     },
     "execution_count": 19,
     "metadata": {},
     "output_type": "execute_result"
    }
   ],
   "source": [
    "si"
   ]
  },
  {
   "cell_type": "code",
   "execution_count": 20,
   "metadata": {},
   "outputs": [
    {
     "data": {
      "text/plain": [
       "array([[ 2,  4,  6,  8],\n",
       "       [ 3,  6,  9, 12],\n",
       "       [ 4,  8, 12, 16],\n",
       "       [ 5, 10, 15, 20]])"
      ]
     },
     "execution_count": 20,
     "metadata": {},
     "output_type": "execute_result"
    }
   ],
   "source": [
    "a.T@(a+(-1))"
   ]
  },
  {
   "cell_type": "code",
   "execution_count": 23,
   "metadata": {},
   "outputs": [
    {
     "name": "stdout",
     "output_type": "stream",
     "text": [
      "[2]\n"
     ]
    }
   ],
   "source": [
    "print(np.diag(a.T))"
   ]
  },
  {
   "cell_type": "code",
   "execution_count": 40,
   "metadata": {},
   "outputs": [
    {
     "name": "stdout",
     "output_type": "stream",
     "text": [
      "[1 2 3 4]\n",
      "[[1 0 0 0]\n",
      " [0 2 0 0]\n",
      " [0 0 3 0]\n",
      " [0 0 0 4]]\n"
     ]
    }
   ],
   "source": [
    "a = np.array([1,2,3,4])\n",
    "d = np.diag(a)\n",
    "# or simpler: d = np.diag([1,2,3,4])\n",
    "print(a)\n",
    "print(d)"
   ]
  },
  {
   "cell_type": "code",
   "execution_count": 33,
   "metadata": {},
   "outputs": [],
   "source": [
    "a = np.array([[2],[3],[4],[5]])"
   ]
  },
  {
   "cell_type": "code",
   "execution_count": 42,
   "metadata": {},
   "outputs": [
    {
     "name": "stdout",
     "output_type": "stream",
     "text": [
      "[1 2 3 4]\n",
      "[[1 0 0 0]\n",
      " [0 2 0 0]\n",
      " [0 0 3 0]\n",
      " [0 0 0 4]]\n"
     ]
    }
   ],
   "source": [
    "\n",
    "a = np.squeeze(a)\n",
    "d = np.diag(a)\n",
    "print(a)\n",
    "print(d)"
   ]
  },
  {
   "cell_type": "code",
   "execution_count": 32,
   "metadata": {},
   "outputs": [
    {
     "data": {
      "text/plain": [
       "array([[2],\n",
       "       [3],\n",
       "       [4],\n",
       "       [5]])"
      ]
     },
     "execution_count": 32,
     "metadata": {},
     "output_type": "execute_result"
    }
   ],
   "source": []
  },
  {
   "cell_type": "code",
   "execution_count": null,
   "metadata": {},
   "outputs": [],
   "source": []
  }
 ],
 "metadata": {
  "kernelspec": {
   "display_name": "Python 3",
   "language": "python",
   "name": "python3"
  },
  "language_info": {
   "codemirror_mode": {
    "name": "ipython",
    "version": 3
   },
   "file_extension": ".py",
   "mimetype": "text/x-python",
   "name": "python",
   "nbconvert_exporter": "python",
   "pygments_lexer": "ipython3",
   "version": "3.7.1"
  }
 },
 "nbformat": 4,
 "nbformat_minor": 2
}
