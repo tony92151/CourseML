{
 "cells": [
  {
   "cell_type": "code",
   "execution_count": 2,
   "metadata": {},
   "outputs": [],
   "source": [
    "import numpy as np"
   ]
  },
  {
   "cell_type": "code",
   "execution_count": 1,
   "metadata": {},
   "outputs": [
    {
     "name": "stdout",
     "output_type": "stream",
     "text": [
      "{\r\n",
      " \"cells\": [\r\n",
      "  {\r\n",
      "   \"cell_type\": \"code\",\r\n",
      "   \"execution_count\": 1,\r\n",
      "   \"metadata\": {\r\n",
      "    \"collapsed\": true\r\n",
      "   },\r\n",
      "   \"outputs\": [],\r\n",
      "   \"source\": [\r\n",
      "    \"import numpy as np\\n\",\r\n",
      "    \"\\n\",\r\n",
      "    \"def Matrix(*a):\\n\",\r\n",
      "    \"    if len(a)==1 and isinstance(a[0], np.ndarray):\\n\",\r\n",
      "    \"        a = a[0]\\n\",\r\n",
      "    \"    return np.array([[float(x) for x in r] for r in a])\\n\",\r\n",
      "    \"\\n\",\r\n",
      "    \"def Vector(*a):\\n\",\r\n",
      "    \"    if len(a)==1 and isinstance(a[0], np.ndarray):\\n\",\r\n",
      "    \"        a = a[0]\\n\",\r\n",
      "    \"    return np.array([float(x) for x in a]).reshape(-1,1)\\n\",\r\n",
      "    \"\\n\",\r\n",
      "    \"# Black magic\\n\",\r\n",
      "    \"from IPython.display import Latex, SVG, display\\n\",\r\n",
      "    \"from IPython.core.interactiveshell import InteractiveShell\\n\",\r\n",
      "    \"\\n\",\r\n",
      "    \"def ndarray_to_latex(arr): \\n\",\r\n",
      "    \"    if len(arr.shape)==1: \\n\",\r\n",
      "    \"        arr=arr.reshape(1,-1)\\n\",\r\n",
      "    \"    if len(arr.shape) == 2:\\n\",\r\n",
      "    \"        if max(arr.shape) > 30:\\n\",\r\n",
      "    \"            return None\\n\",\r\n",
      "    \"        str_arr = np.vectorize(\\\"{:.3f}\\\".format)(arr)\\n\",\r\n",
      "    \"        return r'\\\\begin{{pmatrix}}{}\\\\end{{pmatrix}}'.format(r'\\\\\\\\ '.join(map('&'.join, str_arr))) \\n\",\r\n",
      "    \"    if len(arr.shape) == 3 and arr.shape[2]==1:\\n\",\r\n",
      "    \"        if max(arr.shape) > 30:\\n\",\r\n",
      "    \"            return None\\n\",\r\n",
      "    \"        arr = arr[:,:,0]\\n\",\r\n",
      "    \"        str_arr = np.vectorize(\\\"{:.3f}\\\".format)(arr)\\n\",\r\n",
      "    \"        return r'\\\\begin{{bmatrix}}[{}]\\\\end{{bmatrix}}'.format(\\n\",\r\n",
      "    \"            r']\\\\\\\\ ['.join(map('&'.join, str_arr))) \\n\",\r\n",
      "    \"    return None\\n\",\r\n",
      "    \"sh = InteractiveShell.instance()\\n\",\r\n",
      "    \"sh.display_formatter.formatters['text/latex'].type_printers[np.ndarray]=ndarray_to_latex\"\r\n",
      "   ]\r\n",
      "  },\r\n",
      "  {\r\n",
      "   \"cell_type\": \"code\",\r\n",
      "   \"execution_count\": null,\r\n",
      "   \"metadata\": {\r\n",
      "    \"collapsed\": true\r\n",
      "   },\r\n",
      "   \"outputs\": [],\r\n",
      "   \"source\": []\r\n",
      "  }\r\n",
      " ],\r\n",
      " \"metadata\": {\r\n",
      "  \"kernelspec\": {\r\n",
      "   \"display_name\": \"Python 3\",\r\n",
      "   \"language\": \"python\",\r\n",
      "   \"name\": \"python3\"\r\n",
      "  },\r\n",
      "  \"language_info\": {\r\n",
      "   \"codemirror_mode\": {\r\n",
      "    \"name\": \"ipython\",\r\n",
      "    \"version\": 3\r\n",
      "   },\r\n",
      "   \"file_extension\": \".py\",\r\n",
      "   \"mimetype\": \"text/x-python\",\r\n",
      "   \"name\": \"python\",\r\n",
      "   \"nbconvert_exporter\": \"python\",\r\n",
      "   \"pygments_lexer\": \"ipython3\",\r\n",
      "   \"version\": \"3.6.5\"\r\n",
      "  }\r\n",
      " },\r\n",
      " \"nbformat\": 4,\r\n",
      " \"nbformat_minor\": 2\r\n",
      "}\r\n"
     ]
    }
   ],
   "source": [
    "! cat magic.ipynb"
   ]
  },
  {
   "cell_type": "code",
   "execution_count": 4,
   "metadata": {},
   "outputs": [],
   "source": [
    "%run magic.ipynb\n",
    "# or copy paste the cell from https://github.com/tjwei/CrashCourseML/blob/master/DIY_NN/magic.ipynb"
   ]
  },
  {
   "cell_type": "markdown",
   "metadata": {},
   "source": [
    "## Feedforward Network\n",
    "一樣有輸入 x, 輸出  y。 但是中間預測、計算的樣子有點不同。\n",
    "<img src=\"https://upload.wikimedia.org/wikipedia/en/5/54/Feed_forward_neural_net.gif\" />\n",
    "\n",
    "\n"
   ]
  },
  {
   "cell_type": "markdown",
   "metadata": {},
   "source": [
    "### 模型是這樣的\n",
    "一樣考慮輸入是四維向量，輸出有 3 個類別。\n",
    "\n",
    "我們的輸入 $x=\\begin{pmatrix} x_0 \\\\ x_1 \\\\ x_2 \\\\ x_3 \\end{pmatrix} $ 是一個向量，我們看成 column vector 好了\n",
    "\n",
    "### 第 0 層\n",
    "而 Weight: $ \n",
    "W^{(0)} = \\begin{pmatrix} W^{(0)}_0 \\\\ W^{(0)}_1 \\\\ W^{(0)}_2 \\\\ W^{(0)}_3 \\\\ W^{(0)}_4 \\\\ W^{(0)}_5 \\end{pmatrix} =  \n",
    "\\begin{pmatrix} \n",
    "W^{(0)}_{0,0} & W^{(0)}_{0,1} &  W^{(0)}_{0,2} & W^{(0)}_{0,3}\\\\ \n",
    "W^{(0)}_{0,0} & W^{(0)}_{0,1} &  W^{(0)}_{0,2} & W^{(0)}_{0,3}\\\\ \n",
    "W^{(0)}_{0,0} & W^{(0)}_{0,1} &  W^{(0)}_{0,2} & W^{(0)}_{0,3}\\\\ \n",
    "W^{(0)}_{0,0} & W^{(0)}_{0,1} &  W^{(0)}_{0,2} & W^{(0)}_{0,3}\\\\ \n",
    "W^{(0)}_{0,0} & W^{(0)}_{0,1} &  W^{(0)}_{0,2} & W^{(0)}_{0,3}\\\\ \n",
    "W^{(0)}_{0,0} & W^{(0)}_{0,1} &  W^{(0)}_{0,2} & W^{(0)}_{0,3}\n",
    " \\end{pmatrix} $\n",
    " \n",
    " Bias: $b^{(0)}=\\begin{pmatrix} b^{(0)}_0 \\\\ b^{(0)}_1 \\\\ b^{(0)}_2  \\\\ b^{(0)}_3 \\\\ b^{(0)}_4 \\\\ b^{(0)}_5 \\end{pmatrix} $ \n",
    "\n",
    "\n",
    "我們先計算\"線性輸出\"  $ c^{(0)} = \\begin{pmatrix} c^{(0)}_0 \\\\ c^{(0)}_1 \\\\ c^{(0)}_2  \\\\ c^{(0)}_3 \\\\ c^{(0)}_4 \\\\ c^{(0)}_5 \\end{pmatrix} =  W^{(0)}x+b^{(0)} =\n",
    "\\begin{pmatrix} W^{(0)}_0 x + b^{(0)}_0 \\\\ W^{(0)}_1 x + b^{(0)}_1 \\\\ W^{(0)}_2 x + b^{(0)}_2 \\\\\n",
    "W^{(0)}_3 x + b^{(0)}_3 \\\\ W^{(0)}_4 x + b^{(0)}_4 \\\\ W^{(0)}_5 x + b^{(0)}_5  \\end{pmatrix}   $， \n",
    "\n",
    "然後再將結果逐項對一個非線性的函數 $f$  最後得到一個向量。\n",
    " \n",
    " $d^{(0)} = \\begin{pmatrix} d^{(0)}_0 \\\\ d^{(0)}_1 \\\\ d^{(0)}_2  \\\\ d^{(0)}_3 \\\\ d^{(0)}_4 \\\\ d^{(0)}_5 \\end{pmatrix} \n",
    " = f({W x + b}) = \\begin{pmatrix} f(c^{(0)}_0) \\\\ f(c^{(0)}_1) \\\\ f(c^{(0)}_2)  \\\\ f(c^{(0)}_3) \\\\ f(c^{(0)}_4) \\\\ f(c^{(0)}_5) \\end{pmatrix} $\n",
    " \n",
    "這裡的 $f$ 常常會用 sigmoid , tanh，或者 ReLU ( https://en.wikipedia.org/wiki/Activation_function )。\n",
    "\n",
    "### 第 1 層\n",
    "這裡接到輸出，其實和 softmax regression 一樣。\n",
    "\n",
    "只是輸入變成 $d^{(0)}, Weight 和 Bias 現在叫做 W^{(1)} 和 b^{(1)} \n",
    "\n",
    "因為維度改變，現在 W^{(1)} 是 3x6 的矩陣。 後面接到的輸出都一樣。\n",
    "\n",
    "所以線性輸出\n",
    "\n",
    "### $ c^{(1)} =  W^{(1)} d^{(0)} + b^{(1)} $\n",
    "\n",
    "### $ d^{(1)} =  e^{c^{(1)}} $\n",
    "\n",
    "\n",
    "\n",
    "當輸入為 x, 最後的 softmax 預測類別是 i 的機率為\n",
    "###  $q_i = Predict_{W^{(0)}, W^{(1)}, b^{(0)}, b^{(1)}}(Y=i|x)  = \\frac {d^{(1)}_i} {\\sum_j d^{(1)}_j}$\n",
    "### 合起來看，就是 $q = \\frac {d^{(1)}} {\\sum_j d^{(1)}_j}$"
   ]
  },
  {
   "cell_type": "markdown",
   "metadata": {},
   "source": [
    "### 問題\n",
    "如果 $W^{(0)}, W^{(1)}, b^{(0)}, b^{(1)}$ 設定為 $A, b, C, d$ (C, d 與前面無關)\n",
    "\n",
    "softmax function 用\n",
    "### $\\sigma (\\mathbf {z} )_{j}={\\frac {e^{z_{j}}}{\\sum _k e^{z_{k}}}}$\n",
    "表示，我們簡化上面的過程成為一個算式。"
   ]
  },
  {
   "cell_type": "code",
   "execution_count": 7,
   "metadata": {},
   "outputs": [
    {
     "name": "stdout",
     "output_type": "stream",
     "text": [
      "from IPython.display import display, Latex\r\n",
      "display(Latex(\"$\\sigma (Cf(Ax+b)+d)$\"))"
     ]
    }
   ],
   "source": [
    "! cat solutions/ff_oneline.py"
   ]
  },
  {
   "cell_type": "code",
   "execution_count": 8,
   "metadata": {},
   "outputs": [
    {
     "data": {
      "text/latex": [
       "$\\sigma (Cf(Ax+b)+d)$"
      ],
      "text/plain": [
       "<IPython.core.display.Latex object>"
      ]
     },
     "metadata": {},
     "output_type": "display_data"
    }
   ],
   "source": [
    "# 參考答案\n",
    "%run solutions/ff_oneline.py"
   ]
  },
  {
   "cell_type": "markdown",
   "metadata": {},
   "source": [
    "### 任務：計算最後的猜測機率 $q$\n",
    "設定：輸入 4 維， 輸出 3 維， 隱藏層 6 維\n",
    "* 設定一些權重 $A,b,C,d$ (隨意自行填入，或者用 np.random.randint(-2,3, size=...))\n",
    "* 設定輸入 $x$ (隨意自行填入，或者用 np.random.randint(-2,3, size=...))\n",
    "* 自行定義 relu, sigmoid 函數 (Hint: np.maximum)\n",
    "* 算出隱藏層 $z$\n",
    "* 自行定義 softmax\n",
    "* 算出最後的 q"
   ]
  },
  {
   "cell_type": "code",
   "execution_count": 14,
   "metadata": {},
   "outputs": [],
   "source": [
    "# 請在這裡計算\n",
    "np.random.seed(123433)\n",
    "\n"
   ]
  },
  {
   "cell_type": "code",
   "execution_count": 15,
   "metadata": {},
   "outputs": [
    {
     "name": "stdout",
     "output_type": "stream",
     "text": [
      "np.random.seed(1234)\r\n",
      "A = np.random.randint(-2,3,size=(6,4))\r\n",
      "b = np.random.randint(-2,3,size=(6))\r\n",
      "C = np.random.randint(-2,3,size=(3,6))\r\n",
      "d = np.random.randint(-2,3,size=(3))\r\n",
      "x = np.random.randint(-2,3,size=(4))"
     ]
    }
   ],
   "source": [
    "! cat solutions/ff_init_variables.py"
   ]
  },
  {
   "cell_type": "code",
   "execution_count": 18,
   "metadata": {},
   "outputs": [],
   "source": [
    "# print(\"A = \",A)\n",
    "# print(\"b = \",b)\n",
    "# print(\"C = \",C)\n",
    "# print(\"d = \",d)\n",
    "# print(\"x = \",x)"
   ]
  },
  {
   "cell_type": "code",
   "execution_count": 19,
   "metadata": {},
   "outputs": [
    {
     "data": {
      "text/latex": [
       "\\begin{pmatrix}1.000&2.000&2.000&-2.000\\\\ -1.000&-1.000&-1.000&0.000\\\\ 1.000&2.000&2.000&0.000\\\\ 0.000&-2.000&-2.000&2.000\\\\ -2.000&-1.000&0.000&-2.000\\\\ 1.000&2.000&0.000&0.000\\end{pmatrix}"
      ],
      "text/plain": [
       "array([[ 1,  2,  2, -2],\n",
       "       [-1, -1, -1,  0],\n",
       "       [ 1,  2,  2,  0],\n",
       "       [ 0, -2, -2,  2],\n",
       "       [-2, -1,  0, -2],\n",
       "       [ 1,  2,  0,  0]])"
      ]
     },
     "metadata": {},
     "output_type": "display_data"
    },
    {
     "data": {
      "text/latex": [
       "\\begin{pmatrix}1.000&1.000&-2.000&-1.000&1.000&-2.000\\end{pmatrix}"
      ],
      "text/plain": [
       "array([ 1,  1, -2, -1,  1, -2])"
      ]
     },
     "metadata": {},
     "output_type": "display_data"
    },
    {
     "data": {
      "text/latex": [
       "\\begin{pmatrix}1.000&0.000&1.000&2.000&-1.000&1.000\\\\ 1.000&1.000&0.000&-1.000&1.000&2.000\\\\ 0.000&1.000&2.000&-1.000&2.000&-2.000\\end{pmatrix}"
      ],
      "text/plain": [
       "array([[ 1,  0,  1,  2, -1,  1],\n",
       "       [ 1,  1,  0, -1,  1,  2],\n",
       "       [ 0,  1,  2, -1,  2, -2]])"
      ]
     },
     "metadata": {},
     "output_type": "display_data"
    },
    {
     "data": {
      "text/latex": [
       "\\begin{pmatrix}2.000&-1.000&-1.000\\end{pmatrix}"
      ],
      "text/plain": [
       "array([ 2, -1, -1])"
      ]
     },
     "metadata": {},
     "output_type": "display_data"
    },
    {
     "data": {
      "text/latex": [
       "\\begin{pmatrix}2.000&-1.000&2.000&-2.000\\end{pmatrix}"
      ],
      "text/plain": [
       "array([ 2, -1,  2, -2])"
      ]
     },
     "metadata": {},
     "output_type": "display_data"
    }
   ],
   "source": [
    "# 參考答案，設定權重\n",
    "%run -i solutions/ff_init_variables.py\n",
    "display(A)\n",
    "display(b)\n",
    "display(C)\n",
    "display(d)\n",
    "display(x)"
   ]
  },
  {
   "cell_type": "code",
   "execution_count": 21,
   "metadata": {},
   "outputs": [
    {
     "name": "stdout",
     "output_type": "stream",
     "text": [
      "def relu(x):\r\n",
      "    return np.maximum(x, 0)\r\n",
      "def sigmoid(x):\r\n",
      "    return 1/(1+np.exp(-x))\r\n",
      "z_relu = relu(A@x + b)\r\n",
      "z_sigmoid = sigmoid(A@x + b )"
     ]
    }
   ],
   "source": [
    "! cat solutions/ff_compute_z.py"
   ]
  },
  {
   "cell_type": "code",
   "execution_count": 24,
   "metadata": {},
   "outputs": [
    {
     "data": {
      "text/latex": [
       "\\begin{pmatrix}2.000&2.000&0.000&0.000&2.000&0.000\\\\ 0.000&0.000&0.000&0.000&0.000&0.000\\\\ 4.000&4.000&1.000&2.000&4.000&1.000\\\\ 1.000&1.000&0.000&0.000&1.000&0.000\\\\ 0.000&0.000&0.000&0.000&0.000&0.000\\\\ 2.000&2.000&0.000&0.000&2.000&0.000\\end{pmatrix}"
      ],
      "text/plain": [
       "array([[2., 2., 0., 0., 2., 0.],\n",
       "       [0., 0., 0., 0., 0., 0.],\n",
       "       [4., 4., 1., 2., 4., 1.],\n",
       "       [1., 1., 0., 0., 1., 0.],\n",
       "       [0., 0., 0., 0., 0., 0.],\n",
       "       [2., 2., 0., 0., 2., 0.]])"
      ]
     },
     "metadata": {},
     "output_type": "display_data"
    },
    {
     "data": {
      "text/latex": [
       "\\begin{pmatrix}0.881&0.881&0.269&0.500&0.881&0.269\\\\ 0.269&0.269&0.018&0.047&0.269&0.018\\\\ 0.982&0.982&0.731&0.881&0.982&0.731\\\\ 0.731&0.731&0.119&0.269&0.731&0.119\\\\ 0.047&0.047&0.002&0.007&0.047&0.002\\\\ 0.881&0.881&0.269&0.500&0.881&0.269\\end{pmatrix}"
      ],
      "text/plain": [
       "array([[0.88079708, 0.88079708, 0.26894142, 0.5       , 0.88079708,\n",
       "        0.26894142],\n",
       "       [0.26894142, 0.26894142, 0.01798621, 0.04742587, 0.26894142,\n",
       "        0.01798621],\n",
       "       [0.98201379, 0.98201379, 0.73105858, 0.88079708, 0.98201379,\n",
       "        0.73105858],\n",
       "       [0.73105858, 0.73105858, 0.11920292, 0.26894142, 0.73105858,\n",
       "        0.11920292],\n",
       "       [0.04742587, 0.04742587, 0.00247262, 0.00669285, 0.04742587,\n",
       "        0.00247262],\n",
       "       [0.88079708, 0.88079708, 0.26894142, 0.5       , 0.88079708,\n",
       "        0.26894142]])"
      ]
     },
     "metadata": {},
     "output_type": "display_data"
    }
   ],
   "source": [
    "# 參考答案 定義 relu, sigmoid 及計算 z\n",
    "%run -i solutions/ff_compute_z.py\n",
    "display(z_relu)\n",
    "display(z_sigmoid)"
   ]
  },
  {
   "cell_type": "code",
   "execution_count": 22,
   "metadata": {},
   "outputs": [
    {
     "name": "stdout",
     "output_type": "stream",
     "text": [
      "def softmax(x):\r\n",
      "    t = np.exp(x)\r\n",
      "    return t/t.sum()\r\n",
      "q_relu = softmax(C @ relu(A @ x + b) + d)\r\n",
      "q_sigmoid = softmax(C @ sigmoid(A @ x + b) + d)"
     ]
    }
   ],
   "source": [
    "! cat solutions/ff_compute_q.py"
   ]
  },
  {
   "cell_type": "code",
   "execution_count": null,
   "metadata": {},
   "outputs": [],
   "source": [
    "# 參考答案 定義 softmax 及計算 q\n",
    "%run -i solutions/ff_compute_q.py\n",
    "display(q_relu)\n",
    "display(q_sigmoid)\n"
   ]
  },
  {
   "cell_type": "markdown",
   "metadata": {},
   "source": [
    "### 練習\n",
    "設計一個網路:\n",
    "* 輸入是二進位 0 ~ 15\n",
    "* 輸出依照對於 3 的餘數分成三類\n"
   ]
  },
  {
   "cell_type": "code",
   "execution_count": 23,
   "metadata": {},
   "outputs": [
    {
     "data": {
      "text/latex": [
       "\\begin{pmatrix}1.000\\\\ 0.000\\\\ 1.000\\\\ 1.000\\end{pmatrix}"
      ],
      "text/plain": [
       "array([[1.],\n",
       "       [0.],\n",
       "       [1.],\n",
       "       [1.]])"
      ]
     },
     "execution_count": 23,
     "metadata": {},
     "output_type": "execute_result"
    }
   ],
   "source": [
    "# Hint 下面產生數字 i 的 2 進位向量\n",
    "i = 13\n",
    "x = Vector(i%2, (i>>1)%2, (i>>2)%2, (i>>3)%2)\n",
    "x"
   ]
  },
  {
   "cell_type": "code",
   "execution_count": 26,
   "metadata": {},
   "outputs": [
    {
     "name": "stdout",
     "output_type": "stream",
     "text": [
      "(1, 4)\n"
     ]
    }
   ],
   "source": [
    "# 請在這裡計算\n",
    "x = np.array([[1,3,4,6]])\n",
    "print(x.shape)\n"
   ]
  },
  {
   "cell_type": "code",
   "execution_count": null,
   "metadata": {},
   "outputs": [],
   "source": [
    "# 參考解答\n",
    "%run -i solutions/ff_mod3.py"
   ]
  },
  {
   "cell_type": "markdown",
   "metadata": {},
   "source": [
    "### 練習\n",
    "設計一個網路來判斷井字棋是否有連成直線(只需要判斷其中一方即可):\n",
    "* 輸入是 9 維向量，0 代表空格，1 代表有下子 \n",
    "* 輸出是二維(softmax)或一維(sigmoid)皆可，用來代表 True, False\n",
    "\n",
    "有連線的例子\n",
    "\n",
    "```\n",
    "_X_\n",
    "X__\n",
    "XXX\n",
    "\n",
    "XXX\n",
    "XX_\n",
    "_XX\n",
    "\n",
    "__X\n",
    "_XX\n",
    "X__\n",
    "```\n",
    "\n",
    "沒連線的例子\n",
    "```\n",
    "XX_\n",
    "X__\n",
    "_XX\n",
    "\n",
    "_X_\n",
    "XX_\n",
    "X_X\n",
    "\n",
    "__X\n",
    "_XX\n",
    "_X_\n",
    "```"
   ]
  },
  {
   "cell_type": "code",
   "execution_count": null,
   "metadata": {},
   "outputs": [],
   "source": [
    "# 請在這裡計算\n",
    "\n"
   ]
  },
  {
   "cell_type": "code",
   "execution_count": null,
   "metadata": {},
   "outputs": [],
   "source": [
    "#參考答案\n",
    "%run -i solutions/ff_tic_tac_toe.py"
   ]
  },
  {
   "cell_type": "code",
   "execution_count": null,
   "metadata": {},
   "outputs": [],
   "source": [
    "# 測試你的答案\n",
    "def my_result(x):\n",
    "    # return 0 means no, 1 means yes\n",
    "    return (C@relu(A@x+b)+d).argmax()\n",
    "    # or sigmoid based\n",
    "    # return (C@relu(A@x+b)+d) > 0\n",
    "\n",
    "def truth(x):\n",
    "    x = x.reshape(3,3)\n",
    "    return (x.all(axis=0).any() or\n",
    "            x.all(axis=1).any() or\n",
    "            x.diagonal().all() or\n",
    "            x[::-1].diagonal().all())\n",
    "\n",
    "for i in range(512):\n",
    "    x = np.array([[(i>>j)&1] for j in range(9)])\n",
    "    assert my_result(x) == truth(x)\n",
    "print(\"test passed\")"
   ]
  },
  {
   "cell_type": "code",
   "execution_count": null,
   "metadata": {},
   "outputs": [],
   "source": []
  }
 ],
 "metadata": {
  "kernelspec": {
   "display_name": "Python 3",
   "language": "python",
   "name": "python3"
  },
  "language_info": {
   "codemirror_mode": {
    "name": "ipython",
    "version": 3
   },
   "file_extension": ".py",
   "mimetype": "text/x-python",
   "name": "python",
   "nbconvert_exporter": "python",
   "pygments_lexer": "ipython3",
   "version": "3.7.1"
  }
 },
 "nbformat": 4,
 "nbformat_minor": 1
}
