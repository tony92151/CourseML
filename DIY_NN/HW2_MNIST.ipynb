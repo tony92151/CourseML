{
 "cells": [
  {
   "cell_type": "code",
   "execution_count": 1,
   "metadata": {},
   "outputs": [],
   "source": [
    "from PIL import Image\n",
    "import numpy as np"
   ]
  },
  {
   "cell_type": "code",
   "execution_count": 2,
   "metadata": {},
   "outputs": [],
   "source": [
    "import os\n",
    "import urllib\n",
    "from urllib.request import urlretrieve\n",
    "dataset = 'mnist.pkl.gz'\n",
    "def reporthook(a,b,c):\n",
    "    print(\"\\rdownloading: %5.1f%%\"%(a*b*100.0/c), end=\"\")\n",
    "    \n",
    "if not os.path.isfile(dataset):\n",
    "        origin = \"https://github.com/mnielsen/neural-networks-and-deep-learning/raw/master/data/mnist.pkl.gz\"\n",
    "        print('Downloading data from %s' % origin)\n",
    "        urlretrieve(origin, dataset, reporthook=reporthook)"
   ]
  },
  {
   "cell_type": "code",
   "execution_count": 3,
   "metadata": {},
   "outputs": [],
   "source": [
    "import gzip\n",
    "import pickle\n",
    "with gzip.open(dataset, 'rb') as f:\n",
    "    train_set, validation_set, test_set = pickle.load(f, encoding='latin1')"
   ]
  },
  {
   "cell_type": "code",
   "execution_count": 4,
   "metadata": {},
   "outputs": [
    {
     "name": "stdout",
     "output_type": "stream",
     "text": [
      "Length of train data:  50000\n",
      "Length of test data:  10000\n",
      "Class:  10\n"
     ]
    }
   ],
   "source": [
    "cog = len(np.unique(test_set[1]))\n",
    "\n",
    "print(\"Length of train data: \",len(train_set[0]))\n",
    "print(\"Length of test data: \",len(test_set[0]))\n",
    "print(\"Class: \",cog)"
   ]
  },
  {
   "cell_type": "code",
   "execution_count": 5,
   "metadata": {},
   "outputs": [],
   "source": [
    "# 設定好訓練及測試資料\n",
    "train_X, train_y = train_set\n",
    "test_X, test_y = test_set\n",
    "# 設定成我們的格式\n",
    "train_X = train_X[..., None]\n",
    "test_X = test_X[..., None]\n",
    "\n"
   ]
  },
  {
   "cell_type": "code",
   "execution_count": 6,
   "metadata": {},
   "outputs": [
    {
     "name": "stdout",
     "output_type": "stream",
     "text": [
      "[5 0 4 1 9 2 1 3 1 4 3 5 3 6 1 7 2 8 6 9]\n"
     ]
    },
    {
     "data": {
      "image/png": "[encoded data removed]",
      "text/plain": [
       "<PIL.Image.Image image mode=L size=560x28 at 0x106046278>"
      ]
     },
     "metadata": {},
     "output_type": "display_data"
    }
   ],
   "source": [
    "from IPython.display import display\n",
    "def showX(X):\n",
    "    int_X = (X*255).clip(0,255).astype('uint8')\n",
    "    # N*784 -> N*28*28 -> 28*N*28 -> 28 * 28N\n",
    "    int_X_reshape = int_X.reshape(-1,28,28).swapaxes(0,1).reshape(28,-1)\n",
    "    display(Image.fromarray(int_X_reshape))\n",
    "# 訓練資料， X 的前 20 筆\n",
    "print(train_y[:20])\n",
    "#print(train_X[:2])\n",
    "showX(train_X[:20])"
   ]
  },
  {
   "cell_type": "code",
   "execution_count": 7,
   "metadata": {},
   "outputs": [],
   "source": [
    "def relu(x):\n",
    "    return np.maximum(x, 0)\n",
    "# 微分\n",
    "def Drelu(x):\n",
    "    return (x>0).astype('float32')"
   ]
  },
  {
   "cell_type": "code",
   "execution_count": 29,
   "metadata": {},
   "outputs": [
    {
     "name": "stdout",
     "output_type": "stream",
     "text": [
      "0 0.064 61.08446741354032\n",
      "100 0.476 2.2272008757339004\n",
      "200 0.602 1.331182700931598\n",
      "300 0.63 1.1836834581382\n",
      "400 0.618 1.0717025278112269\n",
      "500 0.654 1.0074608720234601\n",
      "600 0.7 0.884798418723881\n",
      "700 0.704 0.9062967530515122\n",
      "800 0.728 0.7574738521606026\n",
      "900 0.742 0.7490766613064129\n",
      "1000 0.754 0.7077710803970363\n",
      "1100 0.756 0.7908529108710495\n",
      "1200 0.748 0.6967790638480146\n",
      "1300 0.756 0.7359170110339925\n",
      "1400 0.748 0.7236315589066933\n",
      "1500 0.792 0.6309483670939722\n",
      "1600 0.782 0.6365598976098019\n",
      "1700 0.79 0.5757934499798719\n",
      "1800 0.798 0.6078774994520525\n",
      "1900 0.802 0.6443967559958371\n",
      "2000 0.796 0.6221896744197627\n",
      "2100 0.776 0.6773550517800325\n",
      "2200 0.812 0.5776745706188229\n",
      "2300 0.82 0.5990517081142185\n",
      "2400 0.822 0.5797655200899063\n",
      "2500 0.83 0.5437380454561941\n",
      "2600 0.834 0.5484959587108198\n",
      "2700 0.81 0.5975882561572524\n",
      "2800 0.822 0.5489352328500132\n",
      "2900 0.81 0.5998816975881532\n",
      "3000 0.826 0.5545535330636281\n",
      "3100 0.85 0.47788069142860995\n",
      "3200 0.816 0.6282418727262823\n",
      "3300 0.84 0.46208356228302744\n",
      "3400 0.806 0.5719199405984089\n",
      "3500 0.816 0.5729344113838488\n",
      "3600 0.832 0.5730012746856279\n",
      "3700 0.846 0.5399179453356157\n",
      "3800 0.82 0.6114300717570982\n",
      "3900 0.85 0.5101624537158937\n",
      "4000 0.858 0.4567181382558718\n",
      "4100 0.83 0.5896276287609582\n",
      "4200 0.818 0.5567716906583202\n",
      "4300 0.824 0.6290849243289774\n",
      "4400 0.84 0.48488882509596914\n",
      "4500 0.842 0.5307021440520306\n",
      "4600 0.806 0.5920493840057637\n",
      "4700 0.822 0.5215987350706127\n",
      "4800 0.858 0.43740956158159805\n",
      "4900 0.86 0.513164949281427\n",
      "5000 0.844 0.5702915496933181\n",
      "5100 0.86 0.4759088485395507\n",
      "5200 0.088 53.132085142481934\n"
     ]
    },
    {
     "name": "stderr",
     "output_type": "stream",
     "text": [
      "/Users/tonyguo/anaconda3/lib/python3.7/site-packages/ipykernel_launcher.py:24: RuntimeWarning: divide by zero encountered in log\n",
      "/Users/tonyguo/anaconda3/lib/python3.7/site-packages/ipykernel_launcher.py:23: RuntimeWarning: invalid value encountered in true_divide\n",
      "/Users/tonyguo/anaconda3/lib/python3.7/site-packages/ipykernel_launcher.py:2: RuntimeWarning: invalid value encountered in maximum\n",
      "  \n",
      "/Users/tonyguo/anaconda3/lib/python3.7/site-packages/ipykernel_launcher.py:5: RuntimeWarning: invalid value encountered in greater\n",
      "  \"\"\"\n"
     ]
    },
    {
     "name": "stdout",
     "output_type": "stream",
     "text": [
      "5300 0.106 nan\n",
      "5400 0.128 nan\n",
      "5500 0.116 nan\n",
      "5600 0.094 nan\n",
      "5700 0.094 nan\n",
      "5800 0.122 nan\n",
      "5900 0.102 nan\n"
     ]
    }
   ],
   "source": [
    "# 參考範例 softmax regression\n",
    "W = np.random.normal(size=(25, 784))\n",
    "W2 = np.random.normal(size=(10, 25))\n",
    "b = np.random.normal(size=(25, 1))\n",
    "\n",
    "c = np.random.normal(size=(10, 1))\n",
    "\n",
    "n_data = train_X.shape[0]\n",
    "# 紀錄 loss\n",
    "loss_history = []\n",
    "accuracy_history = []\n",
    "for epoch in range(6000):    \n",
    "    idx = np.random.choice(n_data, 500, replace=False)\n",
    "    X = train_X[idx]\n",
    "    y = train_y[idx]\n",
    "    one_y = np.eye(10)[y][..., None]\n",
    "    \n",
    "    A = W @ X + b\n",
    "    ta = relu(A)\n",
    "    \n",
    "    \n",
    "    d = np.exp(W2 @ ta + c)\n",
    "    q = d/d.sum(axis=(1,2), keepdims=True)\n",
    "    loss = -np.log(q[range(len(y)), y]).mean()\n",
    "    loss_history.append(loss)\n",
    "    accuracy = (q.argmax(axis=1).ravel() == y).mean()\n",
    "    accuracy_history.append(accuracy)\n",
    "    if epoch%100 == 0:\n",
    "        print(epoch, accuracy, loss)\n",
    "    grad_W2_all = q - one_y\n",
    "    \n",
    "    grad_W2 = grad_W2_all @ ta.swapaxes(1,2)\n",
    "    grad_W2 = grad_W2.mean(axis=0)\n",
    "    #print(W2.T.shape)\n",
    "    \n",
    "    grad_ta_all = np.array([W2.T @ t for t in grad_W2_all])\n",
    "    #grad_ta_all = W2.swapaxes(1,2) @ grad_w2_all\n",
    "\n",
    "    grad_ta = grad_ta_all*Drelu(A)\n",
    "    #print((1-pow(np.tanh(grad_ta_all),2)).shape)\n",
    "    grad_b = grad_ta.mean(axis=0)\n",
    "    \n",
    "    grad_W = grad_ta @ X.swapaxes(1,2)\n",
    "    grad_W = grad_W.mean(axis=0)\n",
    "    #print(grad_W.shape)\n",
    "    #grad_W = grad_W_all.mean(axis=0)\n",
    "    #W -= grad_W\n",
    "    #b -= grad_b    \n",
    "    W -=  0.1*((5001-epoch)/5000)*grad_W\n",
    "    W2 -=  0.1*((5001-epoch)/5000)*grad_W2\n",
    "    b -= 0.1*((5001-epoch)/5000)*grad_b    \n",
    "    c -= 0.1*((5001-epoch)/5000)*grad_W2_all.mean(axis=0)\n",
    "\n"
   ]
  },
  {
   "cell_type": "code",
   "execution_count": null,
   "metadata": {},
   "outputs": [],
   "source": []
  },
  {
   "cell_type": "markdown",
   "metadata": {},
   "source": [
    "# mean-square-error"
   ]
  },
  {
   "cell_type": "code",
   "execution_count": null,
   "metadata": {},
   "outputs": [
    {
     "name": "stdout",
     "output_type": "stream",
     "text": [
      "0 0.082 190323.22517583327\n",
      "100 0.1 0.17163747832973397\n"
     ]
    }
   ],
   "source": [
    "# 參考範例 softmax regression\n",
    "W = np.random.normal(size=(25, 784))\n",
    "W2 = np.random.normal(size=(10, 25))\n",
    "b = np.random.normal(size=(25, 1))\n",
    "\n",
    "c = np.random.normal(size=(10, 1))\n",
    "\n",
    "n_data = train_X.shape[0]\n",
    "# 紀錄 loss\n",
    "loss_history = []\n",
    "accuracy_history = []\n",
    "for epoch in range(6000):    \n",
    "    idx = np.random.choice(n_data, 500, replace=False)\n",
    "    X = train_X[idx]\n",
    "    y = train_y[idx]\n",
    "    one_y = np.eye(10)[y][..., None]\n",
    "    \n",
    "    A = W @ X + b\n",
    "    ta = relu(A)\n",
    "    \n",
    "    d = W2 @ ta + c\n",
    "    #d = np.exp(W2 @ ta + c)\n",
    "    q = d/d.sum(axis=(1,2), keepdims=True)\n",
    "    #loss = -np.log(q[range(len(y)), y]).mean()\n",
    "    loss = np.array([(q[t]- one_y[t]).T@(q[t]- one_y[t]) for t in range(len(q))])\n",
    "    #print(loss.mean(axis=1).shape)\n",
    "    loss = ((loss.mean(axis=1))/len(one_y[0])).mean()\n",
    "    #print(loss.mean().shape)\n",
    "    loss_history.append(loss)\n",
    "    accuracy = (q.argmax(axis=1).ravel() == y).mean()\n",
    "    accuracy_history.append(accuracy)\n",
    "    if epoch%100 == 0:\n",
    "        print(epoch, accuracy, loss)\n",
    "        #print(\"\")\n",
    "    #grad_W2_all = q - one_y\n",
    "    \n",
    "    #print((d*one_y).shape)\n",
    "    grad_W2_all = (2/len(one_y[0]))*(d*one_y)\n",
    "    #print(grad_W2_all.shape)\n",
    "    grad_W2_all = grad_W2_all*np.array([(-1)*(q[t].T@one_y[t])*(q[t]-one_y[t]) for t in range(len(q))])\n",
    "    \n",
    "    grad_W2 = grad_W2_all @ ta.swapaxes(1,2)\n",
    "    grad_W2 = grad_W2.mean(axis=0)\n",
    "    #print(W2.T.shape)\n",
    "    \n",
    "    grad_ta_all = np.array([W2.T @ t for t in grad_W2_all])\n",
    "    #grad_ta_all = W2.swapaxes(1,2) @ grad_w2_all\n",
    "\n",
    "    grad_ta = grad_ta_all*Drelu(A)\n",
    "    #print((1-pow(np.tanh(grad_ta_all),2)).shape)\n",
    "    grad_b = grad_ta.mean(axis=0)\n",
    "    \n",
    "    grad_W = grad_ta @ X.swapaxes(1,2)\n",
    "    grad_W = grad_W.mean(axis=0)\n",
    "    #print(grad_W.shape)\n",
    "    #grad_W = grad_W_all.mean(axis=0)\n",
    "    #W -= grad_W\n",
    "    #b -= grad_b    \n",
    "    W -=  0.1*((5001-epoch)/5000)*grad_W\n",
    "    W2 -=  0.1*((5001-epoch)/5000)*grad_W2\n",
    "    b -= 0.1*((5001-epoch)/5000)*grad_b    \n",
    "    c -= 0.1*((5001-epoch)/5000)*grad_W2_all.mean(axis=0)\n",
    "\n",
    "\n"
   ]
  },
  {
   "cell_type": "code",
   "execution_count": null,
   "metadata": {},
   "outputs": [],
   "source": []
  }
 ],
 "metadata": {
  "kernelspec": {
   "display_name": "Python 3",
   "language": "python",
   "name": "python3"
  },
  "language_info": {
   "codemirror_mode": {
    "name": "ipython",
    "version": 3
   },
   "file_extension": ".py",
   "mimetype": "text/x-python",
   "name": "python",
   "nbconvert_exporter": "python",
   "pygments_lexer": "ipython3",
   "version": "3.7.1"
  }
 },
 "nbformat": 4,
 "nbformat_minor": 2
}
