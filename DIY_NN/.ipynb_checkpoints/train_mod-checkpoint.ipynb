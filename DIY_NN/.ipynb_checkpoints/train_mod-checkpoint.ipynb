{
 "cells": [
  {
   "cell_type": "code",
   "execution_count": 1,
   "metadata": {},
   "outputs": [],
   "source": [
    "import numpy as np\n",
    "np.random.seed(1234)"
   ]
  },
  {
   "cell_type": "code",
   "execution_count": 2,
   "metadata": {},
   "outputs": [],
   "source": [
    "def sigmoid(x):\n",
    "    return 1/(1+np.exp(-x))"
   ]
  },
  {
   "cell_type": "code",
   "execution_count": 3,
   "metadata": {},
   "outputs": [
    {
     "ename": "NameError",
     "evalue": "name 'ans' is not defined",
     "output_type": "error",
     "traceback": [
      "\u001b[0;31m---------------------------------------------------------------------------\u001b[0m",
      "\u001b[0;31mNameError\u001b[0m                                 Traceback (most recent call last)",
      "\u001b[0;32m<ipython-input-3-ed0937f6c36a>\u001b[0m in \u001b[0;36m<module>\u001b[0;34m\u001b[0m\n\u001b[1;32m     10\u001b[0m     \u001b[0;32mreturn\u001b[0m \u001b[0mnp\u001b[0m\u001b[0;34m.\u001b[0m\u001b[0marray\u001b[0m\u001b[0;34m(\u001b[0m\u001b[0mdata\u001b[0m\u001b[0;34m)\u001b[0m\u001b[0;34m,\u001b[0m \u001b[0mnp\u001b[0m\u001b[0;34m.\u001b[0m\u001b[0marray\u001b[0m\u001b[0;34m(\u001b[0m\u001b[0mans\u001b[0m\u001b[0;34m)\u001b[0m\u001b[0;34m\u001b[0m\u001b[0;34m\u001b[0m\u001b[0m\n\u001b[1;32m     11\u001b[0m \u001b[0;34m\u001b[0m\u001b[0m\n\u001b[0;32m---> 12\u001b[0;31m \u001b[0mtrain_X\u001b[0m\u001b[0;34m,\u001b[0m\u001b[0mtrain_Y\u001b[0m \u001b[0;34m=\u001b[0m \u001b[0mcreatData\u001b[0m\u001b[0;34m(\u001b[0m\u001b[0;36m4\u001b[0m\u001b[0;34m)\u001b[0m\u001b[0;34m\u001b[0m\u001b[0;34m\u001b[0m\u001b[0m\n\u001b[0m",
      "\u001b[0;32m<ipython-input-3-ed0937f6c36a>\u001b[0m in \u001b[0;36mcreatData\u001b[0;34m(mod)\u001b[0m\n\u001b[1;32m      7\u001b[0m         \u001b[0mx\u001b[0m \u001b[0;34m=\u001b[0m \u001b[0mnp\u001b[0m\u001b[0;34m.\u001b[0m\u001b[0marray\u001b[0m\u001b[0;34m(\u001b[0m\u001b[0;34m[\u001b[0m\u001b[0;34m[\u001b[0m\u001b[0mn\u001b[0m\u001b[0;34m%\u001b[0m\u001b[0;36m2\u001b[0m\u001b[0;34m]\u001b[0m\u001b[0;34m,\u001b[0m \u001b[0;34m[\u001b[0m\u001b[0;34m(\u001b[0m\u001b[0mn\u001b[0m\u001b[0;34m>>\u001b[0m\u001b[0;36m1\u001b[0m\u001b[0;34m)\u001b[0m\u001b[0;34m%\u001b[0m\u001b[0;36m2\u001b[0m\u001b[0;34m]\u001b[0m\u001b[0;34m,\u001b[0m \u001b[0;34m[\u001b[0m\u001b[0;34m(\u001b[0m\u001b[0mn\u001b[0m\u001b[0;34m>>\u001b[0m\u001b[0;36m2\u001b[0m\u001b[0;34m)\u001b[0m\u001b[0;34m%\u001b[0m\u001b[0;36m2\u001b[0m\u001b[0;34m]\u001b[0m\u001b[0;34m,\u001b[0m \u001b[0;34m[\u001b[0m\u001b[0;34m(\u001b[0m\u001b[0mn\u001b[0m\u001b[0;34m>>\u001b[0m\u001b[0;36m3\u001b[0m\u001b[0;34m)\u001b[0m\u001b[0;34m%\u001b[0m\u001b[0;36m2\u001b[0m\u001b[0;34m]\u001b[0m\u001b[0;34m]\u001b[0m\u001b[0;34m)\u001b[0m\u001b[0;34m\u001b[0m\u001b[0;34m\u001b[0m\u001b[0m\n\u001b[1;32m      8\u001b[0m         \u001b[0mdata\u001b[0m\u001b[0;34m.\u001b[0m\u001b[0mappend\u001b[0m\u001b[0;34m(\u001b[0m\u001b[0mx\u001b[0m\u001b[0;34m)\u001b[0m\u001b[0;34m\u001b[0m\u001b[0;34m\u001b[0m\u001b[0m\n\u001b[0;32m----> 9\u001b[0;31m         \u001b[0mans\u001b[0m\u001b[0;34m.\u001b[0m\u001b[0mappend\u001b[0m\u001b[0;34m(\u001b[0m\u001b[0myu\u001b[0m\u001b[0;34m)\u001b[0m\u001b[0;34m\u001b[0m\u001b[0;34m\u001b[0m\u001b[0m\n\u001b[0m\u001b[1;32m     10\u001b[0m     \u001b[0;32mreturn\u001b[0m \u001b[0mnp\u001b[0m\u001b[0;34m.\u001b[0m\u001b[0marray\u001b[0m\u001b[0;34m(\u001b[0m\u001b[0mdata\u001b[0m\u001b[0;34m)\u001b[0m\u001b[0;34m,\u001b[0m \u001b[0mnp\u001b[0m\u001b[0;34m.\u001b[0m\u001b[0marray\u001b[0m\u001b[0;34m(\u001b[0m\u001b[0mans\u001b[0m\u001b[0;34m)\u001b[0m\u001b[0;34m\u001b[0m\u001b[0;34m\u001b[0m\u001b[0m\n\u001b[1;32m     11\u001b[0m \u001b[0;34m\u001b[0m\u001b[0m\n",
      "\u001b[0;31mNameError\u001b[0m: name 'ans' is not defined"
     ]
    }
   ],
   "source": [
    "def creatData(mod):\n",
    "    data = []\n",
    "    ans = []\n",
    "    for i in range(50000):\n",
    "        n = np.random.randint(0,16)\n",
    "        yu = n%mod\n",
    "        x = np.array([[n%2], [(n>>1)%2], [(n>>2)%2], [(n>>3)%2]])\n",
    "        data.append(x)\n",
    "        ans.append(yu)\n",
    "    return np.array(data), np.array(ans)\n",
    "    \n",
    "train_X,train_Y = creatData(4)"
   ]
  },
  {
   "cell_type": "code",
   "execution_count": 4,
   "metadata": {},
   "outputs": [
    {
     "ename": "NameError",
     "evalue": "name 'train_X' is not defined",
     "output_type": "error",
     "traceback": [
      "\u001b[0;31m---------------------------------------------------------------------------\u001b[0m",
      "\u001b[0;31mNameError\u001b[0m                                 Traceback (most recent call last)",
      "\u001b[0;32m<ipython-input-4-d3b656c66750>\u001b[0m in \u001b[0;36m<module>\u001b[0;34m\u001b[0m\n\u001b[0;32m----> 1\u001b[0;31m \u001b[0mprint\u001b[0m\u001b[0;34m(\u001b[0m\u001b[0mtrain_X\u001b[0m\u001b[0;34m[\u001b[0m\u001b[0;34m:\u001b[0m\u001b[0;36m5\u001b[0m\u001b[0;34m]\u001b[0m\u001b[0;34m)\u001b[0m\u001b[0;34m\u001b[0m\u001b[0;34m\u001b[0m\u001b[0m\n\u001b[0m\u001b[1;32m      2\u001b[0m \u001b[0mprint\u001b[0m\u001b[0;34m(\u001b[0m\u001b[0mtrain_Y\u001b[0m\u001b[0;34m[\u001b[0m\u001b[0;34m:\u001b[0m\u001b[0;36m5\u001b[0m\u001b[0;34m]\u001b[0m\u001b[0;34m)\u001b[0m\u001b[0;34m\u001b[0m\u001b[0;34m\u001b[0m\u001b[0m\n",
      "\u001b[0;31mNameError\u001b[0m: name 'train_X' is not defined"
     ]
    }
   ],
   "source": [
    "print(train_X[:5])\n",
    "print(train_Y[:5])"
   ]
  },
  {
   "cell_type": "code",
   "execution_count": 240,
   "metadata": {},
   "outputs": [],
   "source": [
    "n_data = train_X.shape[0]\n",
    "W = np.random.normal(size=(3, 4))\n",
    "W2 = np.random.normal(size=(3, 30))\n",
    "\n",
    "b = np.random.normal(size=(3, 1))\n",
    "loss_history = []\n",
    "accuracy_history = []\n",
    "lr = 0.005\n",
    "# idx = np.random.choice(n_data, 300, replace=False)\n",
    "# X = train_X[idx]\n",
    "# y = train_Y[idx]"
   ]
  },
  {
   "cell_type": "code",
   "execution_count": 242,
   "metadata": {},
   "outputs": [
    {
     "name": "stdout",
     "output_type": "stream",
     "text": [
      "0 0.373 1.392192464767749\n",
      "500 0.377 1.3446987049656383\n",
      "1000 0.355 1.349631732770699\n",
      "1500 0.39 1.269278315568251\n",
      "2000 0.375 1.298964006638359\n",
      "2500 0.359 1.2746812141104105\n",
      "3000 0.361 1.274494282905484\n",
      "3500 0.37 1.2440244847108117\n",
      "4000 0.368 1.2864364113563278\n",
      "4500 0.367 1.2709066775943063\n"
     ]
    }
   ],
   "source": [
    "\n",
    "for epoch in range(5000):    \n",
    "    idx = np.random.choice(n_data, 1000, replace=False)\n",
    "    X = train_X[idx]\n",
    "    y = train_Y[idx]\n",
    "    one_y = np.eye(3)[y][..., None]\n",
    "    #d = np.exp(W @ X + b)\n",
    "    #d0 = sigmoid(W2 @ W)\n",
    "    d = sigmoid(W @ X + b)\n",
    "    #d2 = sigmoid(d @ w2)\n",
    "    q = d/d.sum(axis=(1,2), keepdims=True)\n",
    "    loss = -np.log(q[range(len(y)), y]).mean()\n",
    "    loss_history.append(loss)\n",
    "    accuracy = (q.argmax(axis=1).ravel() == y).mean()\n",
    "    accuracy_history.append(accuracy)\n",
    "    if epoch%500 == 0:\n",
    "        print(epoch, accuracy, loss)\n",
    "    grad_b_all = q - one_y\n",
    "    grad_b_all = grad_b_all*(grad_b_all+(-1))\n",
    "    grad_b = grad_b_all.mean(axis=0)\n",
    "    grad_W_all = grad_b_all @ X.swapaxes(1,2)\n",
    "    grad_W = grad_W_all.mean(axis=0)\n",
    "    #grad_b = grad_b_all.mean(axis=0)\n",
    "    \n",
    "    #grad = grad_b_all @ X.swapaxes(1,2)\n",
    "    #print(\"grad: \",grad.shape)\n",
    "    #print(\"X.swap: \",X.swapaxes(1,2).shape)\n",
    "    #print(\"W: \",W.reshape(-1,10,4).shape)\n",
    "    \n",
    "    ######\n",
    "    #grad_W2_all = np.dot(grad,W.swapaxes(0,1),axis=0)\n",
    "    \n",
    "    #grad_W2_all = np.array([(g @ W.swapaxes(0,1)) for g in grad])\n",
    "    #grad_W2_all = grad @ W.swapaxes(0,1)\n",
    "    \n",
    "    ######\n",
    "    #grad_W_all = np.array([(W2.swapaxes(0,1)@g) for g in grad])\n",
    "    \n",
    "    #grad_W_all = grad @ W2.swapaxes(0,1)\n",
    "    #print(\"grad_w: \",grad_W_all.shape)\n",
    "    #grad_W = grad_W_all.mean(axis=0)\n",
    "    #grad_W = grad_W_all\n",
    "    \n",
    "    #grad_W = grad_W_all.mean(axis=0)\n",
    "    #grad_W2 = grad_W2_all.mean(axis=0)\n",
    "    #W -= grad_W\n",
    "    #b -= grad_b  \n",
    "    #W2 -= 0.001*((5001-epoch)/5000)*grad_W2\n",
    "    W -= 0.001*((5001-epoch)/5000)*grad_W\n",
    "    #W2 -= 0.1*((5001-epoch)/5000)*grad_W2\n",
    "    b -= 0.001*((5001-epoch)/5000)*grad_b \n",
    "    #print(\"NO\")"
   ]
  },
  {
   "cell_type": "code",
   "execution_count": 239,
   "metadata": {},
   "outputs": [
    {
     "data": {
      "text/plain": [
       "array([[ 0.70630586, -1.40098734,  0.97951687, -0.9755417 ],\n",
       "       [-2.10342098,  1.58249331,  1.48634601,  0.33214883],\n",
       "       [ 0.94681176, -0.80657924,  1.7174796 , -0.90663901],\n",
       "       [ 0.18771544, -0.77937729,  1.48324744, -1.14965501]])"
      ]
     },
     "execution_count": 239,
     "metadata": {},
     "output_type": "execute_result"
    }
   ],
   "source": [
    "W"
   ]
  },
  {
   "cell_type": "code",
   "execution_count": 227,
   "metadata": {},
   "outputs": [
    {
     "data": {
      "image/png": "[encoded data removed]",
      "text/plain": [
       "<Figure size 432x288 with 1 Axes>"
      ]
     },
     "metadata": {
      "needs_background": "light"
     },
     "output_type": "display_data"
    }
   ],
   "source": [
    "%matplotlib inline\n",
    "import matplotlib.pyplot as plt\n",
    "# 準確率的圖\n",
    "plt.plot(accuracy_history);"
   ]
  },
  {
   "cell_type": "code",
   "execution_count": 228,
   "metadata": {},
   "outputs": [
    {
     "data": {
      "image/png": "[encoded data removed]",
      "text/plain": [
       "<Figure size 432x288 with 1 Axes>"
      ]
     },
     "metadata": {
      "needs_background": "light"
     },
     "output_type": "display_data"
    }
   ],
   "source": [
    "plt.plot(loss_history);"
   ]
  },
  {
   "cell_type": "code",
   "execution_count": null,
   "metadata": {},
   "outputs": [],
   "source": []
  }
 ],
 "metadata": {
  "kernelspec": {
   "display_name": "Python 3",
   "language": "python",
   "name": "python3"
  },
  "language_info": {
   "codemirror_mode": {
    "name": "ipython",
    "version": 3
   },
   "file_extension": ".py",
   "mimetype": "text/x-python",
   "name": "python",
   "nbconvert_exporter": "python",
   "pygments_lexer": "ipython3",
   "version": "3.7.1"
  }
 },
 "nbformat": 4,
 "nbformat_minor": 2
}
