{
 "cells": [
  {
   "cell_type": "code",
   "execution_count": 2,
   "metadata": {},
   "outputs": [],
   "source": [
    "import numpy as np"
   ]
  },
  {
   "cell_type": "code",
   "execution_count": 4,
   "metadata": {},
   "outputs": [],
   "source": [
    "%run magic.ipynb\n",
    "# or copy paste the cell from https://github.com/tjwei/CrashCourseML/blob/master/DIY_NN/magic.ipynb"
   ]
  },
  {
   "cell_type": "markdown",
   "metadata": {},
   "source": [
    "## Feedforward Network\n",
    "一樣有輸入 x, 輸出  y。 但是中間預測、計算的樣子有點不同。\n",
    "<img src=\"https://upload.wikimedia.org/wikipedia/en/5/54/Feed_forward_neural_net.gif\" />\n",
    "\n",
    "\n"
   ]
  },
  {
   "cell_type": "markdown",
   "metadata": {},
   "source": [
    "### 模型是這樣的\n",
    "一樣考慮輸入是四維向量，輸出有 3 個類別。\n",
    "\n",
    "我們的輸入 $x=\\begin{pmatrix} x_0 \\\\ x_1 \\\\ x_2 \\\\ x_3 \\end{pmatrix} $ 是一個向量，我們看成 column vector 好了\n",
    "\n",
    "### 第 0 層\n",
    "而 Weight: $ \n",
    "W^{(0)} = \\begin{pmatrix} W^{(0)}_0 \\\\ W^{(0)}_1 \\\\ W^{(0)}_2 \\\\ W^{(0)}_3 \\\\ W^{(0)}_4 \\\\ W^{(0)}_5 \\end{pmatrix} =  \n",
    "\\begin{pmatrix} \n",
    "W^{(0)}_{0,0} & W^{(0)}_{0,1} &  W^{(0)}_{0,2} & W^{(0)}_{0,3}\\\\ \n",
    "W^{(0)}_{0,0} & W^{(0)}_{0,1} &  W^{(0)}_{0,2} & W^{(0)}_{0,3}\\\\ \n",
    "W^{(0)}_{0,0} & W^{(0)}_{0,1} &  W^{(0)}_{0,2} & W^{(0)}_{0,3}\\\\ \n",
    "W^{(0)}_{0,0} & W^{(0)}_{0,1} &  W^{(0)}_{0,2} & W^{(0)}_{0,3}\\\\ \n",
    "W^{(0)}_{0,0} & W^{(0)}_{0,1} &  W^{(0)}_{0,2} & W^{(0)}_{0,3}\\\\ \n",
    "W^{(0)}_{0,0} & W^{(0)}_{0,1} &  W^{(0)}_{0,2} & W^{(0)}_{0,3}\n",
    " \\end{pmatrix} $\n",
    " \n",
    " Bias: $b^{(0)}=\\begin{pmatrix} b^{(0)}_0 \\\\ b^{(0)}_1 \\\\ b^{(0)}_2  \\\\ b^{(0)}_3 \\\\ b^{(0)}_4 \\\\ b^{(0)}_5 \\end{pmatrix} $ \n",
    "\n",
    "\n",
    "我們先計算\"線性輸出\"  $ c^{(0)} = \\begin{pmatrix} c^{(0)}_0 \\\\ c^{(0)}_1 \\\\ c^{(0)}_2  \\\\ c^{(0)}_3 \\\\ c^{(0)}_4 \\\\ c^{(0)}_5 \\end{pmatrix} =  W^{(0)}x+b^{(0)} =\n",
    "\\begin{pmatrix} W^{(0)}_0 x + b^{(0)}_0 \\\\ W^{(0)}_1 x + b^{(0)}_1 \\\\ W^{(0)}_2 x + b^{(0)}_2 \\\\\n",
    "W^{(0)}_3 x + b^{(0)}_3 \\\\ W^{(0)}_4 x + b^{(0)}_4 \\\\ W^{(0)}_5 x + b^{(0)}_5  \\end{pmatrix}   $， \n",
    "\n",
    "然後再將結果逐項對一個非線性的函數 $f$  最後得到一個向量。\n",
    " \n",
    " $d^{(0)} = \\begin{pmatrix} d^{(0)}_0 \\\\ d^{(0)}_1 \\\\ d^{(0)}_2  \\\\ d^{(0)}_3 \\\\ d^{(0)}_4 \\\\ d^{(0)}_5 \\end{pmatrix} \n",
    " = f({W x + b}) = \\begin{pmatrix} f(c^{(0)}_0) \\\\ f(c^{(0)}_1) \\\\ f(c^{(0)}_2)  \\\\ f(c^{(0)}_3) \\\\ f(c^{(0)}_4) \\\\ f(c^{(0)}_5) \\end{pmatrix} $\n",
    " \n",
    "這裡的 $f$ 常常會用 sigmoid , tanh，或者 ReLU ( https://en.wikipedia.org/wiki/Activation_function )。\n",
    "\n",
    "### 第 1 層\n",
    "這裡接到輸出，其實和 softmax regression 一樣。\n",
    "\n",
    "只是輸入變成 $d^{(0)}, Weight 和 Bias 現在叫做 W^{(1)} 和 b^{(1)} \n",
    "\n",
    "因為維度改變，現在 W^{(1)} 是 3x6 的矩陣。 後面接到的輸出都一樣。\n",
    "\n",
    "所以線性輸出\n",
    "\n",
    "### $ c^{(1)} =  W^{(1)} d^{(0)} + b^{(1)} $\n",
    "\n",
    "### $ d^{(1)} =  e^{c^{(1)}} $\n",
    "\n",
    "\n",
    "\n",
    "當輸入為 x, 最後的 softmax 預測類別是 i 的機率為\n",
    "###  $q_i = Predict_{W^{(0)}, W^{(1)}, b^{(0)}, b^{(1)}}(Y=i|x)  = \\frac {d^{(1)}_i} {\\sum_j d^{(1)}_j}$\n",
    "### 合起來看，就是 $q = \\frac {d^{(1)}} {\\sum_j d^{(1)}_j}$"
   ]
  },
  {
   "cell_type": "markdown",
   "metadata": {},
   "source": [
    "### 問題\n",
    "如果 $W^{(0)}, W^{(1)}, b^{(0)}, b^{(1)}$ 設定為 $A, b, C, d$ (C, d 與前面無關)\n",
    "\n",
    "softmax function 用\n",
    "### $\\sigma (\\mathbf {z} )_{j}={\\frac {e^{z_{j}}}{\\sum _k e^{z_{k}}}}$\n",
    "表示，我們簡化上面的過程成為一個算式。"
   ]
  },
  {
   "cell_type": "code",
   "execution_count": 7,
   "metadata": {},
   "outputs": [
    {
     "name": "stdout",
     "output_type": "stream",
     "text": [
      "from IPython.display import display, Latex\r\n",
      "display(Latex(\"$\\sigma (Cf(Ax+b)+d)$\"))"
     ]
    }
   ],
   "source": [
    "! cat solutions/ff_oneline.py"
   ]
  },
  {
   "cell_type": "code",
   "execution_count": 8,
   "metadata": {},
   "outputs": [
    {
     "data": {
      "text/latex": [
       "$\\sigma (Cf(Ax+b)+d)$"
      ],
      "text/plain": [
       "<IPython.core.display.Latex object>"
      ]
     },
     "metadata": {},
     "output_type": "display_data"
    }
   ],
   "source": [
    "# 參考答案\n",
    "%run solutions/ff_oneline.py"
   ]
  },
  {
   "cell_type": "markdown",
   "metadata": {},
   "source": [
    "### 任務：計算最後的猜測機率 $q$\n",
    "設定：輸入 4 維， 輸出 3 維， 隱藏層 6 維\n",
    "* 設定一些權重 $A,b,C,d$ (隨意自行填入，或者用 np.random.randint(-2,3, size=...))\n",
    "* 設定輸入 $x$ (隨意自行填入，或者用 np.random.randint(-2,3, size=...))\n",
    "* 自行定義 relu, sigmoid 函數 (Hint: np.maximum)\n",
    "* 算出隱藏層 $z$\n",
    "* 自行定義 softmax\n",
    "* 算出最後的 q"
   ]
  },
  {
   "cell_type": "code",
   "execution_count": 14,
   "metadata": {},
   "outputs": [],
   "source": [
    "# 請在這裡計算\n",
    "np.random.seed(123433)\n",
    "\n"
   ]
  },
  {
   "cell_type": "code",
   "execution_count": 15,
   "metadata": {},
   "outputs": [
    {
     "name": "stdout",
     "output_type": "stream",
     "text": [
      "np.random.seed(1234)\r\n",
      "A = np.random.randint(-2,3,size=(6,4))\r\n",
      "b = np.random.randint(-2,3,size=(6))\r\n",
      "C = np.random.randint(-2,3,size=(3,6))\r\n",
      "d = np.random.randint(-2,3,size=(3))\r\n",
      "x = np.random.randint(-2,3,size=(4))"
     ]
    }
   ],
   "source": [
    "! cat solutions/ff_init_variables.py"
   ]
  },
  {
   "cell_type": "code",
   "execution_count": 16,
   "metadata": {},
   "outputs": [
    {
     "name": "stdout",
     "output_type": "stream",
     "text": [
      "A =  [[ 1  2  2 -2]\n",
      " [-1 -1 -1  0]\n",
      " [ 1  2  2  0]\n",
      " [ 0 -2 -2  2]\n",
      " [-2 -1  0 -2]\n",
      " [ 1  2  0  0]]\n",
      "b =  [ 1  1 -2 -1  1 -2]\n",
      "C =  [[ 1  0  1  2 -1  1]\n",
      " [ 1  1  0 -1  1  2]\n",
      " [ 0  1  2 -1  2 -2]]\n",
      "d =  [ 2 -1 -1]\n",
      "x =  [ 2 -1  2 -2]\n"
     ]
    }
   ],
   "source": [
    "# print(\"A = \",A)\n",
    "# print(\"b = \",b)\n",
    "# print(\"C = \",C)\n",
    "# print(\"d = \",d)\n",
    "# print(\"x = \",x)"
   ]
  },
  {
   "cell_type": "code",
   "execution_count": 17,
   "metadata": {},
   "outputs": [
    {
     "data": {
      "text/latex": [
       "\\begin{pmatrix}1.000&2.000&2.000&-2.000\\\\ -1.000&-1.000&-1.000&0.000\\\\ 1.000&2.000&2.000&0.000\\\\ 0.000&-2.000&-2.000&2.000\\\\ -2.000&-1.000&0.000&-2.000\\\\ 1.000&2.000&0.000&0.000\\end{pmatrix}"
      ],
      "text/plain": [
       "array([[ 1,  2,  2, -2],\n",
       "       [-1, -1, -1,  0],\n",
       "       [ 1,  2,  2,  0],\n",
       "       [ 0, -2, -2,  2],\n",
       "       [-2, -1,  0, -2],\n",
       "       [ 1,  2,  0,  0]])"
      ]
     },
     "metadata": {},
     "output_type": "display_data"
    },
    {
     "data": {
      "text/latex": [
       "\\begin{pmatrix}1.000&1.000&-2.000&-1.000&1.000&-2.000\\end{pmatrix}"
      ],
      "text/plain": [
       "array([ 1,  1, -2, -1,  1, -2])"
      ]
     },
     "metadata": {},
     "output_type": "display_data"
    },
    {
     "data": {
      "text/latex": [
       "\\begin{pmatrix}1.000&0.000&1.000&2.000&-1.000&1.000\\\\ 1.000&1.000&0.000&-1.000&1.000&2.000\\\\ 0.000&1.000&2.000&-1.000&2.000&-2.000\\end{pmatrix}"
      ],
      "text/plain": [
       "array([[ 1,  0,  1,  2, -1,  1],\n",
       "       [ 1,  1,  0, -1,  1,  2],\n",
       "       [ 0,  1,  2, -1,  2, -2]])"
      ]
     },
     "metadata": {},
     "output_type": "display_data"
    },
    {
     "data": {
      "text/latex": [
       "\\begin{pmatrix}2.000&-1.000&-1.000\\end{pmatrix}"
      ],
      "text/plain": [
       "array([ 2, -1, -1])"
      ]
     },
     "metadata": {},
     "output_type": "display_data"
    },
    {
     "data": {
      "text/latex": [
       "\\begin{pmatrix}2.000&-1.000&2.000&-2.000\\end{pmatrix}"
      ],
      "text/plain": [
       "array([ 2, -1,  2, -2])"
      ]
     },
     "metadata": {},
     "output_type": "display_data"
    }
   ],
   "source": [
    "# 參考答案，設定權重\n",
    "%run -i solutions/ff_init_variables.py\n",
    "display(A)\n",
    "display(b)\n",
    "display(C)\n",
    "display(d)\n",
    "display(x)"
   ]
  },
  {
   "cell_type": "code",
   "execution_count": null,
   "metadata": {},
   "outputs": [],
   "source": [
    "# 參考答案 定義 relu, sigmoid 及計算 z\n",
    "%run -i solutions/ff_compute_z.py\n",
    "display(z_relu)\n",
    "display(z_sigmoid)"
   ]
  },
  {
   "cell_type": "code",
   "execution_count": null,
   "metadata": {},
   "outputs": [],
   "source": [
    "# 參考答案 定義 softmax 及計算 q\n",
    "%run -i solutions/ff_compute_q.py\n",
    "display(q_relu)\n",
    "display(q_sigmoid)\n"
   ]
  },
  {
   "cell_type": "markdown",
   "metadata": {},
   "source": [
    "### 練習\n",
    "設計一個網路:\n",
    "* 輸入是二進位 0 ~ 15\n",
    "* 輸出依照對於 3 的餘數分成三類\n"
   ]
  },
  {
   "cell_type": "code",
   "execution_count": null,
   "metadata": {},
   "outputs": [],
   "source": [
    "# Hint 下面產生數字 i 的 2 進位向量\n",
    "i = 13\n",
    "x = Vector(i%2, (i>>1)%2, (i>>2)%2, (i>>3)%2)\n",
    "x"
   ]
  },
  {
   "cell_type": "code",
   "execution_count": null,
   "metadata": {},
   "outputs": [],
   "source": [
    "# 請在這裡計算\n",
    "\n"
   ]
  },
  {
   "cell_type": "code",
   "execution_count": null,
   "metadata": {},
   "outputs": [],
   "source": [
    "# 參考解答\n",
    "%run -i solutions/ff_mod3.py"
   ]
  },
  {
   "cell_type": "markdown",
   "metadata": {},
   "source": [
    "### 練習\n",
    "設計一個網路來判斷井字棋是否有連成直線(只需要判斷其中一方即可):\n",
    "* 輸入是 9 維向量，0 代表空格，1 代表有下子 \n",
    "* 輸出是二維(softmax)或一維(sigmoid)皆可，用來代表 True, False\n",
    "\n",
    "有連線的例子\n",
    "\n",
    "```\n",
    "_X_\n",
    "X__\n",
    "XXX\n",
    "\n",
    "XXX\n",
    "XX_\n",
    "_XX\n",
    "\n",
    "__X\n",
    "_XX\n",
    "X__\n",
    "```\n",
    "\n",
    "沒連線的例子\n",
    "```\n",
    "XX_\n",
    "X__\n",
    "_XX\n",
    "\n",
    "_X_\n",
    "XX_\n",
    "X_X\n",
    "\n",
    "__X\n",
    "_XX\n",
    "_X_\n",
    "```"
   ]
  },
  {
   "cell_type": "code",
   "execution_count": null,
   "metadata": {},
   "outputs": [],
   "source": [
    "# 請在這裡計算\n",
    "\n"
   ]
  },
  {
   "cell_type": "code",
   "execution_count": null,
   "metadata": {},
   "outputs": [],
   "source": [
    "#參考答案\n",
    "%run -i solutions/ff_tic_tac_toe.py"
   ]
  },
  {
   "cell_type": "code",
   "execution_count": null,
   "metadata": {},
   "outputs": [],
   "source": [
    "# 測試你的答案\n",
    "def my_result(x):\n",
    "    # return 0 means no, 1 means yes\n",
    "    return (C@relu(A@x+b)+d).argmax()\n",
    "    # or sigmoid based\n",
    "    # return (C@relu(A@x+b)+d) > 0\n",
    "\n",
    "def truth(x):\n",
    "    x = x.reshape(3,3)\n",
    "    return (x.all(axis=0).any() or\n",
    "            x.all(axis=1).any() or\n",
    "            x.diagonal().all() or\n",
    "            x[::-1].diagonal().all())\n",
    "\n",
    "for i in range(512):\n",
    "    x = np.array([[(i>>j)&1] for j in range(9)])\n",
    "    assert my_result(x) == truth(x)\n",
    "print(\"test passed\")"
   ]
  },
  {
   "cell_type": "code",
   "execution_count": null,
   "metadata": {},
   "outputs": [],
   "source": []
  }
 ],
 "metadata": {
  "kernelspec": {
   "display_name": "Python 3",
   "language": "python",
   "name": "python3"
  },
  "language_info": {
   "codemirror_mode": {
    "name": "ipython",
    "version": 3
   },
   "file_extension": ".py",
   "mimetype": "text/x-python",
   "name": "python",
   "nbconvert_exporter": "python",
   "pygments_lexer": "ipython3",
   "version": "3.7.1"
  }
 },
 "nbformat": 4,
 "nbformat_minor": 1
}
