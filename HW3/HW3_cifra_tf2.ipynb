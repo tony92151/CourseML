{
 "cells": [
  {
   "cell_type": "code",
   "execution_count": 23,
   "metadata": {},
   "outputs": [
    {
     "data": {
      "text/plain": [
       "'2.0.0'"
      ]
     },
     "execution_count": 23,
     "metadata": {},
     "output_type": "execute_result"
    }
   ],
   "source": [
    "from tensorflow.keras.layers import Dense, Flatten, Reshape, Conv2D, MaxPooling2D\n",
    "from tensorflow.keras.models import Model\n",
    "import matplotlib.pyplot as plt\n",
    "import tensorflow as tf\n",
    "import numpy as np\n",
    "tf.__version__"
   ]
  },
  {
   "cell_type": "code",
   "execution_count": null,
   "metadata": {},
   "outputs": [],
   "source": []
  },
  {
   "cell_type": "code",
   "execution_count": 8,
   "metadata": {},
   "outputs": [],
   "source": [
    "(x_train, y_train), (x_test, y_test) = tf.keras.datasets.cifar10.load_data()\n",
    "y_train = np.squeeze(y_train,axis=1)\n",
    "y_test = np.squeeze(y_test,axis=1)"
   ]
  },
  {
   "cell_type": "code",
   "execution_count": null,
   "metadata": {},
   "outputs": [],
   "source": []
  },
  {
   "cell_type": "code",
   "execution_count": 9,
   "metadata": {},
   "outputs": [],
   "source": [
    "x_train = x_train.astype('float32')\n",
    "y_train = y_train.astype('float32')\n",
    "x_test = x_test.astype('float32')\n",
    "y_test = y_test.astype('float32')"
   ]
  },
  {
   "cell_type": "code",
   "execution_count": 10,
   "metadata": {},
   "outputs": [],
   "source": [
    "train_ds = tf.data.Dataset.from_tensor_slices((x_train, y_train))\n",
    "train_ds = train_ds.shuffle(10000).batch(64)"
   ]
  },
  {
   "cell_type": "code",
   "execution_count": 11,
   "metadata": {},
   "outputs": [
    {
     "data": {
      "text/plain": [
       "<BatchDataset shapes: ((None, 32, 32, 3), (None,)), types: (tf.float32, tf.float32)>"
      ]
     },
     "execution_count": 11,
     "metadata": {},
     "output_type": "execute_result"
    }
   ],
   "source": [
    "train_ds"
   ]
  },
  {
   "cell_type": "code",
   "execution_count": 12,
   "metadata": {},
   "outputs": [],
   "source": [
    "test_ds = tf.data.Dataset.from_tensor_slices((x_test, y_test))\n",
    "test_ds = test_ds.shuffle(10000).batch(64)"
   ]
  },
  {
   "cell_type": "code",
   "execution_count": 13,
   "metadata": {},
   "outputs": [
    {
     "data": {
      "text/plain": [
       "<matplotlib.image.AxesImage at 0x7f92a46580f0>"
      ]
     },
     "execution_count": 13,
     "metadata": {},
     "output_type": "execute_result"
    },
    {
     "data": {
      "image/png": "[encoded data removed]",
      "text/plain": [
       "<Figure size 432x288 with 1 Axes>"
      ]
     },
     "metadata": {
      "needs_background": "light"
     },
     "output_type": "display_data"
    }
   ],
   "source": [
    "plt.imshow(x_train[1].astype('int16'))"
   ]
  },
  {
   "cell_type": "code",
   "execution_count": null,
   "metadata": {},
   "outputs": [],
   "source": [
    "# model = tf.keras.models.Sequential([\n",
    "#     tf.keras.layers.Conv2D(64,3, activation='relu',strides = 1,input_shape = (32,32,3)),\n",
    "#     tf.keras.layers.MaxPooling2D(pool_size=(2, 2), strides=1, padding ='same', data_format='channels_last'),\n",
    "#     tf.keras.layers.Flatten(input_shape=(32,32.3)),##固定輸入\n",
    "#     tf.keras.layers.Dense(128, activation='relu'),\n",
    "#     tf.keras.layers.Dense(10, activation='softmax')    \n",
    "# ])"
   ]
  },
  {
   "cell_type": "code",
   "execution_count": 56,
   "metadata": {},
   "outputs": [],
   "source": [
    "class MyModel(Model):\n",
    "    def __init__(self):\n",
    "        super(MyModel, self).__init__()\n",
    "        self.conv1 = Conv2D(32, 3,activation='relu',padding ='same')\n",
    "        self.maxpool = MaxPooling2D()\n",
    "        self.conv2 = Conv2D(64, 3,activation='relu',padding ='same')\n",
    "        self.flatten = Flatten()\n",
    "        self.d1 = Dense(1024, activation='relu')\n",
    "        self.d2 = Dense(10, activation='softmax')\n",
    "\n",
    "    def call(self, x): \n",
    "        #print(\"1: \",x.shape)\n",
    "        x = self.conv1(x)\n",
    "        #print(\"2: \",x.shape)\n",
    "        x = self.maxpool(x)\n",
    "        #print(\"3: \",x.shape)\n",
    "        x = self.conv2(x)\n",
    "        #print(\"4: \",x.shape)\n",
    "        x = self.flatten(x)\n",
    "        #print(\"5: \",x.shape)\n",
    "        x = self.d1(x)\n",
    "        #print(\"6: \",x.shape)\n",
    "        return self.d2(x)\n",
    "\n",
    "# Create an instance of the model\n",
    "model = MyModel()"
   ]
  },
  {
   "cell_type": "code",
   "execution_count": 75,
   "metadata": {},
   "outputs": [],
   "source": [
    "loss_object = tf.keras.losses.SparseCategoricalCrossentropy()\n",
    "\n",
    "optimizer = tf.keras.optimizers.Adam(learning_rate=0.0005)\n",
    "\n",
    "train_loss = tf.keras.metrics.Mean(name='train_loss')\n",
    "train_accuracy = tf.keras.metrics.SparseCategoricalAccuracy(name='train_accuracy')\n",
    "\n",
    "test_loss = tf.keras.metrics.Mean(name='test_loss')\n",
    "test_accuracy = tf.keras.metrics.SparseCategoricalAccuracy(name='test_accuracy')"
   ]
  },
  {
   "cell_type": "code",
   "execution_count": 76,
   "metadata": {},
   "outputs": [],
   "source": [
    "def train_step(images, labels):\n",
    "    with tf.GradientTape() as tape:\n",
    "        predictions = model(images)\n",
    "        #print(\"P: \",predictions.shape)\n",
    "        loss = loss_object(labels, predictions)\n",
    "        #print(loss)\n",
    "    gradients = tape.gradient(loss, model.trainable_variables)\n",
    "    optimizer.apply_gradients(zip(gradients, model.trainable_variables))\n",
    "\n",
    "    train_loss(loss)\n",
    "    train_accuracy(labels, predictions)"
   ]
  },
  {
   "cell_type": "code",
   "execution_count": 77,
   "metadata": {},
   "outputs": [],
   "source": [
    "#@tf.function\n",
    "def test_step(images, labels):\n",
    "    predictions = model(images)\n",
    "    t_loss = loss_object(labels, predictions)\n",
    "    test_loss(t_loss)\n",
    "    test_accuracy(labels, predictions)\n"
   ]
  },
  {
   "cell_type": "code",
   "execution_count": 78,
   "metadata": {},
   "outputs": [
    {
     "name": "stdout",
     "output_type": "stream",
     "text": [
      "Epoch 1/20, Loss: 14.50591, Accuracy: 10.00000, Test Loss: 14.49956, Test Accuracy: 10.00000\n",
      "Epoch 2/20, Loss: 14.50687, Accuracy: 10.00000, Test Loss: 14.50437, Test Accuracy: 10.00000\n",
      "Epoch 3/20, Loss: 14.50687, Accuracy: 10.00000, Test Loss: 14.49955, Test Accuracy: 10.00000\n",
      "Epoch 4/20, Loss: 14.50783, Accuracy: 10.00000, Test Loss: 14.50436, Test Accuracy: 10.00000\n",
      "Epoch 5/20, Loss: 14.50784, Accuracy: 10.00000, Test Loss: 14.50437, Test Accuracy: 10.00000\n",
      "Epoch 6/20, Loss: 14.50589, Accuracy: 10.00000, Test Loss: 14.50917, Test Accuracy: 10.00000\n",
      "Epoch 7/20, Loss: 14.50494, Accuracy: 10.00000, Test Loss: 14.49956, Test Accuracy: 10.00000\n",
      "Epoch 8/20, Loss: 14.50397, Accuracy: 10.00000, Test Loss: 14.50436, Test Accuracy: 10.00000\n",
      "Epoch 9/20, Loss: 14.50590, Accuracy: 10.00000, Test Loss: 14.51399, Test Accuracy: 10.00000\n",
      "Epoch 10/20, Loss: 14.50300, Accuracy: 10.00000, Test Loss: 14.50918, Test Accuracy: 10.00000\n",
      "Epoch 11/20, Loss: 14.50687, Accuracy: 10.00000, Test Loss: 14.50918, Test Accuracy: 10.00000\n",
      "Epoch 12/20, Loss: 14.50685, Accuracy: 10.00000, Test Loss: 14.51399, Test Accuracy: 10.00000\n",
      "Epoch 13/20, Loss: 14.50396, Accuracy: 10.00000, Test Loss: 14.50437, Test Accuracy: 10.00000\n",
      "Epoch 14/20, Loss: 14.50590, Accuracy: 10.00000, Test Loss: 14.50918, Test Accuracy: 10.00000\n",
      "Epoch 15/20, Loss: 14.50687, Accuracy: 10.00000, Test Loss: 14.49956, Test Accuracy: 10.00000\n",
      "Epoch 16/20, Loss: 14.50589, Accuracy: 10.00000, Test Loss: 14.50437, Test Accuracy: 10.00000\n",
      "Epoch 17/20, Loss: 14.50783, Accuracy: 10.00000, Test Loss: 14.50918, Test Accuracy: 10.00000\n",
      "Epoch 18/20, Loss: 14.50686, Accuracy: 10.00000, Test Loss: 14.50918, Test Accuracy: 10.00000\n",
      "Epoch 19/20, Loss: 14.50589, Accuracy: 10.00000, Test Loss: 14.50918, Test Accuracy: 10.00000\n",
      "Epoch 20/20, Loss: 14.50687, Accuracy: 10.00000, Test Loss: 14.49955, Test Accuracy: 10.00000\n"
     ]
    }
   ],
   "source": [
    "EPOCHS = 20\n",
    "\n",
    "for epoch in range(EPOCHS):\n",
    "    for images, labels in train_ds:\n",
    "        train_step(images, labels)\n",
    "\n",
    "    for test_images, test_labels in test_ds:\n",
    "        test_step(test_images, test_labels)\n",
    "\n",
    "    #template = 'Epoch {}, Loss: {}, Accuracy: {}, Test Loss: {}, Test Accuracy: {}'\n",
    "    print('Epoch {}/{}, Loss: {:.5f}, Accuracy: {:.5f}, Test Loss: {:.5f}, Test Accuracy: {:.5f}'.\n",
    "            format(\n",
    "                epoch+1,\n",
    "                EPOCHS,\n",
    "                train_loss.result(),\n",
    "                train_accuracy.result()*100,\n",
    "                test_loss.result(),\n",
    "                test_accuracy.result()*100))\n",
    "\n",
    "    # Reset the metrics for the next epoch\n",
    "    train_loss.reset_states()\n",
    "    train_accuracy.reset_states()\n",
    "    test_loss.reset_states()\n",
    "    test_accuracy.reset_states()\n"
   ]
  },
  {
   "cell_type": "code",
   "execution_count": null,
   "metadata": {},
   "outputs": [],
   "source": [
    "tf.test.is_gpu_available()"
   ]
  },
  {
   "cell_type": "code",
   "execution_count": null,
   "metadata": {},
   "outputs": [],
   "source": [
    "!source ~/.bashrc"
   ]
  },
  {
   "cell_type": "code",
   "execution_count": null,
   "metadata": {},
   "outputs": [],
   "source": []
  },
  {
   "cell_type": "code",
   "execution_count": null,
   "metadata": {},
   "outputs": [],
   "source": []
  }
 ],
 "metadata": {
  "kernelspec": {
   "display_name": "tf2",
   "language": "python",
   "name": "tf2"
  },
  "language_info": {
   "codemirror_mode": {
    "name": "ipython",
    "version": 3
   },
   "file_extension": ".py",
   "mimetype": "text/x-python",
   "name": "python",
   "nbconvert_exporter": "python",
   "pygments_lexer": "ipython3",
   "version": "3.5.2"
  }
 },
 "nbformat": 4,
 "nbformat_minor": 2
}
