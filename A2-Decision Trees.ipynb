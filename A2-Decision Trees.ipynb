{
 "cells": [
  {
   "cell_type": "markdown",
   "metadata": {},
   "source": [
    "# Decision Trees"
   ]
  },
  {
   "cell_type": "code",
   "execution_count": 1,
   "metadata": {
    "collapsed": true
   },
   "outputs": [],
   "source": [
    "from PIL import Image\n",
    "import numpy as np\n",
    "%matplotlib inline\n",
    "import matplotlib\n",
    "import matplotlib.pyplot as plt\n",
    "from sklearn import datasets, tree\n",
    "matplotlib.style.use('bmh')\n",
    "matplotlib.rcParams['figure.figsize']=(10,7)"
   ]
  },
  {
   "cell_type": "markdown",
   "metadata": {},
   "source": [
    "簡易的 決策樹 實驗\n",
    "\n",
    "使用 Iris dataset\n",
    "\n",
    "https://zh.wikipedia.org/wiki/安德森鸢尾花卉数据集\n"
   ]
  },
  {
   "cell_type": "code",
   "execution_count": 2,
   "metadata": {
    "collapsed": false
   },
   "outputs": [],
   "source": [
    " # windows only hack for graphviz path \n",
    "import os\n",
    "for path in os.environ['PATH'].split(os.pathsep):\n",
    "    if path.endswith(\"Library\\\\bin\"):\n",
    "        os.environ['PATH']+=os.pathsep+os.path.join(path, 'graphviz')"
   ]
  },
  {
   "cell_type": "code",
   "execution_count": 3,
   "metadata": {
    "collapsed": false
   },
   "outputs": [
    {
     "data": {
      "text/plain": [
       "DecisionTreeClassifier(class_weight=None, criterion='gini', max_depth=None,\n",
       "            max_features=None, max_leaf_nodes=None,\n",
       "            min_impurity_split=1e-07, min_samples_leaf=1,\n",
       "            min_samples_split=2, min_weight_fraction_leaf=0.0,\n",
       "            presort=False, random_state=None, splitter='best')"
      ]
     },
     "execution_count": 3,
     "metadata": {},
     "output_type": "execute_result"
    }
   ],
   "source": [
    "# Iris dataset\n",
    "iris  = datasets.load_iris()\n",
    "X, y = iris.data, iris.target\n",
    "clf=tree.DecisionTreeClassifier()\n",
    "clf.fit(X, y)\n"
   ]
  },
  {
   "cell_type": "code",
   "execution_count": 4,
   "metadata": {
    "collapsed": false
   },
   "outputs": [],
   "source": [
    "iris_feature_names = [\"花萼長度\", \"花萼寬度\", \"花瓣長度\",\"花瓣寬度\"]\n",
    "iris_target_names = [\"山鳶尾\", \"變色鳶尾\", \"維吉尼亞鳶尾\"]\n",
    "\n",
    "dot_data = tree.export_graphviz(clf, out_file=None, \n",
    "                        feature_names=iris_feature_names,  \n",
    "                         class_names=iris_target_names,  \n",
    "                         filled=True, rounded=True,  \n",
    "                         special_characters=True)"
   ]
  },
  {
   "cell_type": "code",
   "execution_count": 5,
   "metadata": {
    "collapsed": false
   },
   "outputs": [
    {
     "data": {
      "image/svg+xml": [
       "<svg height=\"671pt\" viewBox=\"0.00 0.00 890.50 671.00\" width=\"891pt\" xmlns=\"http://www.w3.org/2000/svg\" xmlns:xlink=\"http://www.w3.org/1999/xlink\">\n",
       "<g class=\"graph\" id=\"graph0\" transform=\"scale(1 1) rotate(0) translate(4 667)\">\n",
       "<title>Tree</title>\n",
       "<polygon fill=\"white\" points=\"-4,4 -4,-667 886.5,-667 886.5,4 -4,4\" stroke=\"none\"/>\n",
       "<!-- 0 -->\n",
       "<g class=\"node\" id=\"node1\"><title>0</title>\n",
       "<path d=\"M555,-663C555,-663 442,-663 442,-663 436,-663 430,-657 430,-651 430,-651 430,-592 430,-592 430,-586 436,-580 442,-580 442,-580 555,-580 555,-580 561,-580 567,-586 567,-592 567,-592 567,-651 567,-651 567,-657 561,-663 555,-663\" fill=\"none\" stroke=\"black\"/>\n",
       "<text font-family=\"Helvetica,sans-Serif\" font-size=\"14.00\" text-anchor=\"start\" x=\"455\" y=\"-647.8\">花瓣寬度 ≤ 0.8</text>\n",
       "<text font-family=\"Helvetica,sans-Serif\" font-size=\"14.00\" text-anchor=\"start\" x=\"457\" y=\"-632.8\">gini = 0.6667</text>\n",
       "<text font-family=\"Helvetica,sans-Serif\" font-size=\"14.00\" text-anchor=\"start\" x=\"451\" y=\"-617.8\">samples = 150</text>\n",
       "<text font-family=\"Helvetica,sans-Serif\" font-size=\"14.00\" text-anchor=\"start\" x=\"438\" y=\"-602.8\">value = [50, 50, 50]</text>\n",
       "<text font-family=\"Helvetica,sans-Serif\" font-size=\"14.00\" text-anchor=\"start\" x=\"454.5\" y=\"-587.8\">class = 山鳶尾</text>\n",
       "</g>\n",
       "<!-- 1 -->\n",
       "<g class=\"node\" id=\"node2\"><title>1</title>\n",
       "<path d=\"M476,-536.5C476,-536.5 379,-536.5 379,-536.5 373,-536.5 367,-530.5 367,-524.5 367,-524.5 367,-480.5 367,-480.5 367,-474.5 373,-468.5 379,-468.5 379,-468.5 476,-468.5 476,-468.5 482,-468.5 488,-474.5 488,-480.5 488,-480.5 488,-524.5 488,-524.5 488,-530.5 482,-536.5 476,-536.5\" fill=\"#e58139\" stroke=\"black\"/>\n",
       "<text font-family=\"Helvetica,sans-Serif\" font-size=\"14.00\" text-anchor=\"start\" x=\"398.5\" y=\"-521.3\">gini = 0.0</text>\n",
       "<text font-family=\"Helvetica,sans-Serif\" font-size=\"14.00\" text-anchor=\"start\" x=\"384\" y=\"-506.3\">samples = 50</text>\n",
       "<text font-family=\"Helvetica,sans-Serif\" font-size=\"14.00\" text-anchor=\"start\" x=\"375\" y=\"-491.3\">value = [50, 0, 0]</text>\n",
       "<text font-family=\"Helvetica,sans-Serif\" font-size=\"14.00\" text-anchor=\"start\" x=\"383.5\" y=\"-476.3\">class = 山鳶尾</text>\n",
       "</g>\n",
       "<!-- 0&#45;&gt;1 -->\n",
       "<g class=\"edge\" id=\"edge1\"><title>0-&gt;1</title>\n",
       "<path d=\"M473.867,-579.907C467.104,-568.763 459.758,-556.658 452.95,-545.439\" fill=\"none\" stroke=\"black\"/>\n",
       "<polygon fill=\"black\" points=\"455.807,-543.4 447.627,-536.667 449.823,-547.032 455.807,-543.4\" stroke=\"black\"/>\n",
       "<text font-family=\"Helvetica,sans-Serif\" font-size=\"14.00\" text-anchor=\"middle\" x=\"441.685\" y=\"-557.251\">True</text>\n",
       "</g>\n",
       "<!-- 2 -->\n",
       "<g class=\"node\" id=\"node3\"><title>2</title>\n",
       "<path d=\"M623,-544C623,-544 518,-544 518,-544 512,-544 506,-538 506,-532 506,-532 506,-473 506,-473 506,-467 512,-461 518,-461 518,-461 623,-461 623,-461 629,-461 635,-467 635,-473 635,-473 635,-532 635,-532 635,-538 629,-544 623,-544\" fill=\"none\" stroke=\"black\"/>\n",
       "<text font-family=\"Helvetica,sans-Serif\" font-size=\"14.00\" text-anchor=\"start\" x=\"523\" y=\"-528.8\">花瓣寬度 ≤ 1.75</text>\n",
       "<text font-family=\"Helvetica,sans-Serif\" font-size=\"14.00\" text-anchor=\"start\" x=\"541.5\" y=\"-513.8\">gini = 0.5</text>\n",
       "<text font-family=\"Helvetica,sans-Serif\" font-size=\"14.00\" text-anchor=\"start\" x=\"523\" y=\"-498.8\">samples = 100</text>\n",
       "<text font-family=\"Helvetica,sans-Serif\" font-size=\"14.00\" text-anchor=\"start\" x=\"514\" y=\"-483.8\">value = [0, 50, 50]</text>\n",
       "<text font-family=\"Helvetica,sans-Serif\" font-size=\"14.00\" text-anchor=\"start\" x=\"520.5\" y=\"-468.8\">class = 變色鳶尾</text>\n",
       "</g>\n",
       "<!-- 0&#45;&gt;2 -->\n",
       "<g class=\"edge\" id=\"edge2\"><title>0-&gt;2</title>\n",
       "<path d=\"M523.48,-579.907C528.897,-571.105 534.683,-561.703 540.277,-552.612\" fill=\"none\" stroke=\"black\"/>\n",
       "<polygon fill=\"black\" points=\"543.304,-554.372 545.564,-544.021 537.342,-550.703 543.304,-554.372\" stroke=\"black\"/>\n",
       "<text font-family=\"Helvetica,sans-Serif\" font-size=\"14.00\" text-anchor=\"middle\" x=\"551.355\" y=\"-564.641\">False</text>\n",
       "</g>\n",
       "<!-- 3 -->\n",
       "<g class=\"node\" id=\"node4\"><title>3</title>\n",
       "<path d=\"M479,-425C479,-425 382,-425 382,-425 376,-425 370,-419 370,-413 370,-413 370,-354 370,-354 370,-348 376,-342 382,-342 382,-342 479,-342 479,-342 485,-342 491,-348 491,-354 491,-354 491,-413 491,-413 491,-419 485,-425 479,-425\" fill=\"#39e581\" fill-opacity=\"0.898039\" stroke=\"black\"/>\n",
       "<text font-family=\"Helvetica,sans-Serif\" font-size=\"14.00\" text-anchor=\"start\" x=\"383\" y=\"-409.8\">花瓣長度 ≤ 4.95</text>\n",
       "<text font-family=\"Helvetica,sans-Serif\" font-size=\"14.00\" text-anchor=\"start\" x=\"393\" y=\"-394.8\">gini = 0.168</text>\n",
       "<text font-family=\"Helvetica,sans-Serif\" font-size=\"14.00\" text-anchor=\"start\" x=\"387\" y=\"-379.8\">samples = 54</text>\n",
       "<text font-family=\"Helvetica,sans-Serif\" font-size=\"14.00\" text-anchor=\"start\" x=\"378\" y=\"-364.8\">value = [0, 49, 5]</text>\n",
       "<text font-family=\"Helvetica,sans-Serif\" font-size=\"14.00\" text-anchor=\"start\" x=\"380.5\" y=\"-349.8\">class = 變色鳶尾</text>\n",
       "</g>\n",
       "<!-- 2&#45;&gt;3 -->\n",
       "<g class=\"edge\" id=\"edge3\"><title>2-&gt;3</title>\n",
       "<path d=\"M521.928,-460.907C510.634,-451.469 498.517,-441.343 486.918,-431.649\" fill=\"none\" stroke=\"black\"/>\n",
       "<polygon fill=\"black\" points=\"488.904,-428.748 478.986,-425.021 484.415,-434.119 488.904,-428.748\" stroke=\"black\"/>\n",
       "</g>\n",
       "<!-- 12 -->\n",
       "<g class=\"node\" id=\"node13\"><title>12</title>\n",
       "<path d=\"M710.5,-425C710.5,-425 592.5,-425 592.5,-425 586.5,-425 580.5,-419 580.5,-413 580.5,-413 580.5,-354 580.5,-354 580.5,-348 586.5,-342 592.5,-342 592.5,-342 710.5,-342 710.5,-342 716.5,-342 722.5,-348 722.5,-354 722.5,-354 722.5,-413 722.5,-413 722.5,-419 716.5,-425 710.5,-425\" fill=\"#8139e5\" fill-opacity=\"0.976471\" stroke=\"black\"/>\n",
       "<text font-family=\"Helvetica,sans-Serif\" font-size=\"14.00\" text-anchor=\"start\" x=\"604\" y=\"-409.8\">花瓣長度 ≤ 4.85</text>\n",
       "<text font-family=\"Helvetica,sans-Serif\" font-size=\"14.00\" text-anchor=\"start\" x=\"610\" y=\"-394.8\">gini = 0.0425</text>\n",
       "<text font-family=\"Helvetica,sans-Serif\" font-size=\"14.00\" text-anchor=\"start\" x=\"608\" y=\"-379.8\">samples = 46</text>\n",
       "<text font-family=\"Helvetica,sans-Serif\" font-size=\"14.00\" text-anchor=\"start\" x=\"599\" y=\"-364.8\">value = [0, 1, 45]</text>\n",
       "<text font-family=\"Helvetica,sans-Serif\" font-size=\"14.00\" text-anchor=\"start\" x=\"588.5\" y=\"-349.8\">class = 維吉尼亞鳶尾</text>\n",
       "</g>\n",
       "<!-- 2&#45;&gt;12 -->\n",
       "<g class=\"edge\" id=\"edge12\"><title>2-&gt;12</title>\n",
       "<path d=\"M598.603,-460.907C604.76,-452.014 611.34,-442.509 617.694,-433.331\" fill=\"none\" stroke=\"black\"/>\n",
       "<polygon fill=\"black\" points=\"620.633,-435.235 623.447,-425.021 614.877,-431.251 620.633,-435.235\" stroke=\"black\"/>\n",
       "</g>\n",
       "<!-- 4 -->\n",
       "<g class=\"node\" id=\"node5\"><title>4</title>\n",
       "<path d=\"M259,-306C259,-306 162,-306 162,-306 156,-306 150,-300 150,-294 150,-294 150,-235 150,-235 150,-229 156,-223 162,-223 162,-223 259,-223 259,-223 265,-223 271,-229 271,-235 271,-235 271,-294 271,-294 271,-300 265,-306 259,-306\" fill=\"#39e581\" fill-opacity=\"0.980392\" stroke=\"black\"/>\n",
       "<text font-family=\"Helvetica,sans-Serif\" font-size=\"14.00\" text-anchor=\"start\" x=\"163\" y=\"-290.8\">花瓣寬度 ≤ 1.65</text>\n",
       "<text font-family=\"Helvetica,sans-Serif\" font-size=\"14.00\" text-anchor=\"start\" x=\"169\" y=\"-275.8\">gini = 0.0408</text>\n",
       "<text font-family=\"Helvetica,sans-Serif\" font-size=\"14.00\" text-anchor=\"start\" x=\"167\" y=\"-260.8\">samples = 48</text>\n",
       "<text font-family=\"Helvetica,sans-Serif\" font-size=\"14.00\" text-anchor=\"start\" x=\"158\" y=\"-245.8\">value = [0, 47, 1]</text>\n",
       "<text font-family=\"Helvetica,sans-Serif\" font-size=\"14.00\" text-anchor=\"start\" x=\"160.5\" y=\"-230.8\">class = 變色鳶尾</text>\n",
       "</g>\n",
       "<!-- 3&#45;&gt;4 -->\n",
       "<g class=\"edge\" id=\"edge4\"><title>3-&gt;4</title>\n",
       "<path d=\"M369.802,-350.22C342.029,-335.449 308.969,-317.868 280.184,-302.559\" fill=\"none\" stroke=\"black\"/>\n",
       "<polygon fill=\"black\" points=\"281.473,-299.28 271,-297.675 278.186,-305.461 281.473,-299.28\" stroke=\"black\"/>\n",
       "</g>\n",
       "<!-- 7 -->\n",
       "<g class=\"node\" id=\"node8\"><title>7</title>\n",
       "<path d=\"M489.5,-306C489.5,-306 371.5,-306 371.5,-306 365.5,-306 359.5,-300 359.5,-294 359.5,-294 359.5,-235 359.5,-235 359.5,-229 365.5,-223 371.5,-223 371.5,-223 489.5,-223 489.5,-223 495.5,-223 501.5,-229 501.5,-235 501.5,-235 501.5,-294 501.5,-294 501.5,-300 495.5,-306 489.5,-306\" fill=\"#8139e5\" fill-opacity=\"0.498039\" stroke=\"black\"/>\n",
       "<text font-family=\"Helvetica,sans-Serif\" font-size=\"14.00\" text-anchor=\"start\" x=\"383\" y=\"-290.8\">花瓣寬度 ≤ 1.55</text>\n",
       "<text font-family=\"Helvetica,sans-Serif\" font-size=\"14.00\" text-anchor=\"start\" x=\"389\" y=\"-275.8\">gini = 0.4444</text>\n",
       "<text font-family=\"Helvetica,sans-Serif\" font-size=\"14.00\" text-anchor=\"start\" x=\"391\" y=\"-260.8\">samples = 6</text>\n",
       "<text font-family=\"Helvetica,sans-Serif\" font-size=\"14.00\" text-anchor=\"start\" x=\"382\" y=\"-245.8\">value = [0, 2, 4]</text>\n",
       "<text font-family=\"Helvetica,sans-Serif\" font-size=\"14.00\" text-anchor=\"start\" x=\"367.5\" y=\"-230.8\">class = 維吉尼亞鳶尾</text>\n",
       "</g>\n",
       "<!-- 3&#45;&gt;7 -->\n",
       "<g class=\"edge\" id=\"edge7\"><title>3-&gt;7</title>\n",
       "<path d=\"M430.5,-341.907C430.5,-333.649 430.5,-324.864 430.5,-316.302\" fill=\"none\" stroke=\"black\"/>\n",
       "<polygon fill=\"black\" points=\"434,-316.021 430.5,-306.021 427,-316.021 434,-316.021\" stroke=\"black\"/>\n",
       "</g>\n",
       "<!-- 5 -->\n",
       "<g class=\"node\" id=\"node6\"><title>5</title>\n",
       "<path d=\"M109,-179.5C109,-179.5 12,-179.5 12,-179.5 6,-179.5 0,-173.5 0,-167.5 0,-167.5 0,-123.5 0,-123.5 0,-117.5 6,-111.5 12,-111.5 12,-111.5 109,-111.5 109,-111.5 115,-111.5 121,-117.5 121,-123.5 121,-123.5 121,-167.5 121,-167.5 121,-173.5 115,-179.5 109,-179.5\" fill=\"#39e581\" stroke=\"black\"/>\n",
       "<text font-family=\"Helvetica,sans-Serif\" font-size=\"14.00\" text-anchor=\"start\" x=\"31.5\" y=\"-164.3\">gini = 0.0</text>\n",
       "<text font-family=\"Helvetica,sans-Serif\" font-size=\"14.00\" text-anchor=\"start\" x=\"17\" y=\"-149.3\">samples = 47</text>\n",
       "<text font-family=\"Helvetica,sans-Serif\" font-size=\"14.00\" text-anchor=\"start\" x=\"8\" y=\"-134.3\">value = [0, 47, 0]</text>\n",
       "<text font-family=\"Helvetica,sans-Serif\" font-size=\"14.00\" text-anchor=\"start\" x=\"10.5\" y=\"-119.3\">class = 變色鳶尾</text>\n",
       "</g>\n",
       "<!-- 4&#45;&gt;5 -->\n",
       "<g class=\"edge\" id=\"edge5\"><title>4-&gt;5</title>\n",
       "<path d=\"M158.458,-222.907C143.18,-210.99 126.494,-197.976 111.295,-186.12\" fill=\"none\" stroke=\"black\"/>\n",
       "<polygon fill=\"black\" points=\"113.059,-183.058 103.022,-179.667 108.754,-188.577 113.059,-183.058\" stroke=\"black\"/>\n",
       "</g>\n",
       "<!-- 6 -->\n",
       "<g class=\"node\" id=\"node7\"><title>6</title>\n",
       "<path d=\"M269.5,-179.5C269.5,-179.5 151.5,-179.5 151.5,-179.5 145.5,-179.5 139.5,-173.5 139.5,-167.5 139.5,-167.5 139.5,-123.5 139.5,-123.5 139.5,-117.5 145.5,-111.5 151.5,-111.5 151.5,-111.5 269.5,-111.5 269.5,-111.5 275.5,-111.5 281.5,-117.5 281.5,-123.5 281.5,-123.5 281.5,-167.5 281.5,-167.5 281.5,-173.5 275.5,-179.5 269.5,-179.5\" fill=\"#8139e5\" stroke=\"black\"/>\n",
       "<text font-family=\"Helvetica,sans-Serif\" font-size=\"14.00\" text-anchor=\"start\" x=\"181.5\" y=\"-164.3\">gini = 0.0</text>\n",
       "<text font-family=\"Helvetica,sans-Serif\" font-size=\"14.00\" text-anchor=\"start\" x=\"171\" y=\"-149.3\">samples = 1</text>\n",
       "<text font-family=\"Helvetica,sans-Serif\" font-size=\"14.00\" text-anchor=\"start\" x=\"162\" y=\"-134.3\">value = [0, 0, 1]</text>\n",
       "<text font-family=\"Helvetica,sans-Serif\" font-size=\"14.00\" text-anchor=\"start\" x=\"147.5\" y=\"-119.3\">class = 維吉尼亞鳶尾</text>\n",
       "</g>\n",
       "<!-- 4&#45;&gt;6 -->\n",
       "<g class=\"edge\" id=\"edge6\"><title>4-&gt;6</title>\n",
       "<path d=\"M210.5,-222.907C210.5,-212.204 210.5,-200.615 210.5,-189.776\" fill=\"none\" stroke=\"black\"/>\n",
       "<polygon fill=\"black\" points=\"214,-189.667 210.5,-179.667 207,-189.667 214,-189.667\" stroke=\"black\"/>\n",
       "</g>\n",
       "<!-- 8 -->\n",
       "<g class=\"node\" id=\"node9\"><title>8</title>\n",
       "<path d=\"M429.5,-179.5C429.5,-179.5 311.5,-179.5 311.5,-179.5 305.5,-179.5 299.5,-173.5 299.5,-167.5 299.5,-167.5 299.5,-123.5 299.5,-123.5 299.5,-117.5 305.5,-111.5 311.5,-111.5 311.5,-111.5 429.5,-111.5 429.5,-111.5 435.5,-111.5 441.5,-117.5 441.5,-123.5 441.5,-123.5 441.5,-167.5 441.5,-167.5 441.5,-173.5 435.5,-179.5 429.5,-179.5\" fill=\"#8139e5\" stroke=\"black\"/>\n",
       "<text font-family=\"Helvetica,sans-Serif\" font-size=\"14.00\" text-anchor=\"start\" x=\"341.5\" y=\"-164.3\">gini = 0.0</text>\n",
       "<text font-family=\"Helvetica,sans-Serif\" font-size=\"14.00\" text-anchor=\"start\" x=\"331\" y=\"-149.3\">samples = 3</text>\n",
       "<text font-family=\"Helvetica,sans-Serif\" font-size=\"14.00\" text-anchor=\"start\" x=\"322\" y=\"-134.3\">value = [0, 0, 3]</text>\n",
       "<text font-family=\"Helvetica,sans-Serif\" font-size=\"14.00\" text-anchor=\"start\" x=\"307.5\" y=\"-119.3\">class = 維吉尼亞鳶尾</text>\n",
       "</g>\n",
       "<!-- 7&#45;&gt;8 -->\n",
       "<g class=\"edge\" id=\"edge8\"><title>7-&gt;8</title>\n",
       "<path d=\"M409.683,-222.907C404.025,-211.873 397.883,-199.898 392.178,-188.773\" fill=\"none\" stroke=\"black\"/>\n",
       "<polygon fill=\"black\" points=\"395.186,-186.968 387.509,-179.667 388.958,-190.162 395.186,-186.968\" stroke=\"black\"/>\n",
       "</g>\n",
       "<!-- 9 -->\n",
       "<g class=\"node\" id=\"node10\"><title>9</title>\n",
       "<path d=\"M563.5,-187C563.5,-187 471.5,-187 471.5,-187 465.5,-187 459.5,-181 459.5,-175 459.5,-175 459.5,-116 459.5,-116 459.5,-110 465.5,-104 471.5,-104 471.5,-104 563.5,-104 563.5,-104 569.5,-104 575.5,-110 575.5,-116 575.5,-116 575.5,-175 575.5,-175 575.5,-181 569.5,-187 563.5,-187\" fill=\"#39e581\" fill-opacity=\"0.498039\" stroke=\"black\"/>\n",
       "<text font-family=\"Helvetica,sans-Serif\" font-size=\"14.00\" text-anchor=\"start\" x=\"470\" y=\"-171.8\">花瓣長度 ≤ 5.45</text>\n",
       "<text font-family=\"Helvetica,sans-Serif\" font-size=\"14.00\" text-anchor=\"start\" x=\"476\" y=\"-156.8\">gini = 0.4444</text>\n",
       "<text font-family=\"Helvetica,sans-Serif\" font-size=\"14.00\" text-anchor=\"start\" x=\"478\" y=\"-141.8\">samples = 3</text>\n",
       "<text font-family=\"Helvetica,sans-Serif\" font-size=\"14.00\" text-anchor=\"start\" x=\"469\" y=\"-126.8\">value = [0, 2, 1]</text>\n",
       "<text font-family=\"Helvetica,sans-Serif\" font-size=\"14.00\" text-anchor=\"start\" x=\"467.5\" y=\"-111.8\">class = 變色鳶尾</text>\n",
       "</g>\n",
       "<!-- 7&#45;&gt;9 -->\n",
       "<g class=\"edge\" id=\"edge9\"><title>7-&gt;9</title>\n",
       "<path d=\"M460.684,-222.907C467.365,-213.923 474.509,-204.315 481.399,-195.05\" fill=\"none\" stroke=\"black\"/>\n",
       "<polygon fill=\"black\" points=\"484.211,-197.134 487.369,-187.021 478.593,-192.957 484.211,-197.134\" stroke=\"black\"/>\n",
       "</g>\n",
       "<!-- 10 -->\n",
       "<g class=\"node\" id=\"node11\"><title>10</title>\n",
       "<path d=\"M489.5,-68C489.5,-68 397.5,-68 397.5,-68 391.5,-68 385.5,-62 385.5,-56 385.5,-56 385.5,-12 385.5,-12 385.5,-6 391.5,-0 397.5,-0 397.5,-0 489.5,-0 489.5,-0 495.5,-0 501.5,-6 501.5,-12 501.5,-12 501.5,-56 501.5,-56 501.5,-62 495.5,-68 489.5,-68\" fill=\"#39e581\" stroke=\"black\"/>\n",
       "<text font-family=\"Helvetica,sans-Serif\" font-size=\"14.00\" text-anchor=\"start\" x=\"414.5\" y=\"-52.8\">gini = 0.0</text>\n",
       "<text font-family=\"Helvetica,sans-Serif\" font-size=\"14.00\" text-anchor=\"start\" x=\"404\" y=\"-37.8\">samples = 2</text>\n",
       "<text font-family=\"Helvetica,sans-Serif\" font-size=\"14.00\" text-anchor=\"start\" x=\"395\" y=\"-22.8\">value = [0, 2, 0]</text>\n",
       "<text font-family=\"Helvetica,sans-Serif\" font-size=\"14.00\" text-anchor=\"start\" x=\"393.5\" y=\"-7.8\">class = 變色鳶尾</text>\n",
       "</g>\n",
       "<!-- 9&#45;&gt;10 -->\n",
       "<g class=\"edge\" id=\"edge10\"><title>9-&gt;10</title>\n",
       "<path d=\"M489.945,-103.726C483.966,-94.879 477.635,-85.51 471.634,-76.6303\" fill=\"none\" stroke=\"black\"/>\n",
       "<polygon fill=\"black\" points=\"474.503,-74.6253 466.004,-68.2996 468.703,-78.5448 474.503,-74.6253\" stroke=\"black\"/>\n",
       "</g>\n",
       "<!-- 11 -->\n",
       "<g class=\"node\" id=\"node12\"><title>11</title>\n",
       "<path d=\"M649.5,-68C649.5,-68 531.5,-68 531.5,-68 525.5,-68 519.5,-62 519.5,-56 519.5,-56 519.5,-12 519.5,-12 519.5,-6 525.5,-0 531.5,-0 531.5,-0 649.5,-0 649.5,-0 655.5,-0 661.5,-6 661.5,-12 661.5,-12 661.5,-56 661.5,-56 661.5,-62 655.5,-68 649.5,-68\" fill=\"#8139e5\" stroke=\"black\"/>\n",
       "<text font-family=\"Helvetica,sans-Serif\" font-size=\"14.00\" text-anchor=\"start\" x=\"561.5\" y=\"-52.8\">gini = 0.0</text>\n",
       "<text font-family=\"Helvetica,sans-Serif\" font-size=\"14.00\" text-anchor=\"start\" x=\"551\" y=\"-37.8\">samples = 1</text>\n",
       "<text font-family=\"Helvetica,sans-Serif\" font-size=\"14.00\" text-anchor=\"start\" x=\"542\" y=\"-22.8\">value = [0, 0, 1]</text>\n",
       "<text font-family=\"Helvetica,sans-Serif\" font-size=\"14.00\" text-anchor=\"start\" x=\"527.5\" y=\"-7.8\">class = 維吉尼亞鳶尾</text>\n",
       "</g>\n",
       "<!-- 9&#45;&gt;11 -->\n",
       "<g class=\"edge\" id=\"edge11\"><title>9-&gt;11</title>\n",
       "<path d=\"M544.683,-103.726C550.581,-94.879 556.827,-85.51 562.746,-76.6303\" fill=\"none\" stroke=\"black\"/>\n",
       "<polygon fill=\"black\" points=\"565.665,-78.5616 568.3,-68.2996 559.841,-74.6787 565.665,-78.5616\" stroke=\"black\"/>\n",
       "</g>\n",
       "<!-- 13 -->\n",
       "<g class=\"node\" id=\"node14\"><title>13</title>\n",
       "<path d=\"M710.5,-306C710.5,-306 592.5,-306 592.5,-306 586.5,-306 580.5,-300 580.5,-294 580.5,-294 580.5,-235 580.5,-235 580.5,-229 586.5,-223 592.5,-223 592.5,-223 710.5,-223 710.5,-223 716.5,-223 722.5,-229 722.5,-235 722.5,-235 722.5,-294 722.5,-294 722.5,-300 716.5,-306 710.5,-306\" fill=\"#8139e5\" fill-opacity=\"0.498039\" stroke=\"black\"/>\n",
       "<text font-family=\"Helvetica,sans-Serif\" font-size=\"14.00\" text-anchor=\"start\" x=\"604\" y=\"-290.8\">花萼長度 ≤ 5.95</text>\n",
       "<text font-family=\"Helvetica,sans-Serif\" font-size=\"14.00\" text-anchor=\"start\" x=\"610\" y=\"-275.8\">gini = 0.4444</text>\n",
       "<text font-family=\"Helvetica,sans-Serif\" font-size=\"14.00\" text-anchor=\"start\" x=\"612\" y=\"-260.8\">samples = 3</text>\n",
       "<text font-family=\"Helvetica,sans-Serif\" font-size=\"14.00\" text-anchor=\"start\" x=\"603\" y=\"-245.8\">value = [0, 1, 2]</text>\n",
       "<text font-family=\"Helvetica,sans-Serif\" font-size=\"14.00\" text-anchor=\"start\" x=\"588.5\" y=\"-230.8\">class = 維吉尼亞鳶尾</text>\n",
       "</g>\n",
       "<!-- 12&#45;&gt;13 -->\n",
       "<g class=\"edge\" id=\"edge13\"><title>12-&gt;13</title>\n",
       "<path d=\"M651.5,-341.907C651.5,-333.649 651.5,-324.864 651.5,-316.302\" fill=\"none\" stroke=\"black\"/>\n",
       "<polygon fill=\"black\" points=\"655,-316.021 651.5,-306.021 648,-316.021 655,-316.021\" stroke=\"black\"/>\n",
       "</g>\n",
       "<!-- 16 -->\n",
       "<g class=\"node\" id=\"node17\"><title>16</title>\n",
       "<path d=\"M870.5,-298.5C870.5,-298.5 752.5,-298.5 752.5,-298.5 746.5,-298.5 740.5,-292.5 740.5,-286.5 740.5,-286.5 740.5,-242.5 740.5,-242.5 740.5,-236.5 746.5,-230.5 752.5,-230.5 752.5,-230.5 870.5,-230.5 870.5,-230.5 876.5,-230.5 882.5,-236.5 882.5,-242.5 882.5,-242.5 882.5,-286.5 882.5,-286.5 882.5,-292.5 876.5,-298.5 870.5,-298.5\" fill=\"#8139e5\" stroke=\"black\"/>\n",
       "<text font-family=\"Helvetica,sans-Serif\" font-size=\"14.00\" text-anchor=\"start\" x=\"782.5\" y=\"-283.3\">gini = 0.0</text>\n",
       "<text font-family=\"Helvetica,sans-Serif\" font-size=\"14.00\" text-anchor=\"start\" x=\"768\" y=\"-268.3\">samples = 43</text>\n",
       "<text font-family=\"Helvetica,sans-Serif\" font-size=\"14.00\" text-anchor=\"start\" x=\"759\" y=\"-253.3\">value = [0, 0, 43]</text>\n",
       "<text font-family=\"Helvetica,sans-Serif\" font-size=\"14.00\" text-anchor=\"start\" x=\"748.5\" y=\"-238.3\">class = 維吉尼亞鳶尾</text>\n",
       "</g>\n",
       "<!-- 12&#45;&gt;16 -->\n",
       "<g class=\"edge\" id=\"edge16\"><title>12-&gt;16</title>\n",
       "<path d=\"M707.011,-341.907C723.459,-329.88 741.436,-316.735 757.769,-304.791\" fill=\"none\" stroke=\"black\"/>\n",
       "<polygon fill=\"black\" points=\"760.137,-307.395 766.144,-298.667 756.005,-301.744 760.137,-307.395\" stroke=\"black\"/>\n",
       "</g>\n",
       "<!-- 14 -->\n",
       "<g class=\"node\" id=\"node15\"><title>14</title>\n",
       "<path d=\"M697.5,-179.5C697.5,-179.5 605.5,-179.5 605.5,-179.5 599.5,-179.5 593.5,-173.5 593.5,-167.5 593.5,-167.5 593.5,-123.5 593.5,-123.5 593.5,-117.5 599.5,-111.5 605.5,-111.5 605.5,-111.5 697.5,-111.5 697.5,-111.5 703.5,-111.5 709.5,-117.5 709.5,-123.5 709.5,-123.5 709.5,-167.5 709.5,-167.5 709.5,-173.5 703.5,-179.5 697.5,-179.5\" fill=\"#39e581\" stroke=\"black\"/>\n",
       "<text font-family=\"Helvetica,sans-Serif\" font-size=\"14.00\" text-anchor=\"start\" x=\"622.5\" y=\"-164.3\">gini = 0.0</text>\n",
       "<text font-family=\"Helvetica,sans-Serif\" font-size=\"14.00\" text-anchor=\"start\" x=\"612\" y=\"-149.3\">samples = 1</text>\n",
       "<text font-family=\"Helvetica,sans-Serif\" font-size=\"14.00\" text-anchor=\"start\" x=\"603\" y=\"-134.3\">value = [0, 1, 0]</text>\n",
       "<text font-family=\"Helvetica,sans-Serif\" font-size=\"14.00\" text-anchor=\"start\" x=\"601.5\" y=\"-119.3\">class = 變色鳶尾</text>\n",
       "</g>\n",
       "<!-- 13&#45;&gt;14 -->\n",
       "<g class=\"edge\" id=\"edge14\"><title>13-&gt;14</title>\n",
       "<path d=\"M651.5,-222.907C651.5,-212.204 651.5,-200.615 651.5,-189.776\" fill=\"none\" stroke=\"black\"/>\n",
       "<polygon fill=\"black\" points=\"655,-189.667 651.5,-179.667 648,-189.667 655,-189.667\" stroke=\"black\"/>\n",
       "</g>\n",
       "<!-- 15 -->\n",
       "<g class=\"node\" id=\"node16\"><title>15</title>\n",
       "<path d=\"M857.5,-179.5C857.5,-179.5 739.5,-179.5 739.5,-179.5 733.5,-179.5 727.5,-173.5 727.5,-167.5 727.5,-167.5 727.5,-123.5 727.5,-123.5 727.5,-117.5 733.5,-111.5 739.5,-111.5 739.5,-111.5 857.5,-111.5 857.5,-111.5 863.5,-111.5 869.5,-117.5 869.5,-123.5 869.5,-123.5 869.5,-167.5 869.5,-167.5 869.5,-173.5 863.5,-179.5 857.5,-179.5\" fill=\"#8139e5\" stroke=\"black\"/>\n",
       "<text font-family=\"Helvetica,sans-Serif\" font-size=\"14.00\" text-anchor=\"start\" x=\"769.5\" y=\"-164.3\">gini = 0.0</text>\n",
       "<text font-family=\"Helvetica,sans-Serif\" font-size=\"14.00\" text-anchor=\"start\" x=\"759\" y=\"-149.3\">samples = 2</text>\n",
       "<text font-family=\"Helvetica,sans-Serif\" font-size=\"14.00\" text-anchor=\"start\" x=\"750\" y=\"-134.3\">value = [0, 0, 2]</text>\n",
       "<text font-family=\"Helvetica,sans-Serif\" font-size=\"14.00\" text-anchor=\"start\" x=\"735.5\" y=\"-119.3\">class = 維吉尼亞鳶尾</text>\n",
       "</g>\n",
       "<!-- 13&#45;&gt;15 -->\n",
       "<g class=\"edge\" id=\"edge15\"><title>13-&gt;15</title>\n",
       "<path d=\"M702.501,-222.907C717.474,-210.99 733.825,-197.976 748.721,-186.12\" fill=\"none\" stroke=\"black\"/>\n",
       "<polygon fill=\"black\" points=\"751.184,-188.633 756.829,-179.667 746.825,-183.156 751.184,-188.633\" stroke=\"black\"/>\n",
       "</g>\n",
       "</g>\n",
       "</svg>"
      ],
      "text/plain": [
       "<IPython.core.display.SVG object>"
      ]
     },
     "execution_count": 5,
     "metadata": {},
     "output_type": "execute_result"
    }
   ],
   "source": [
    "import pydot_ng as pydot\n",
    "from IPython.display import SVG\n",
    "SVG(pydot.graph_from_dot_data(dot_data).create_svg())"
   ]
  },
  {
   "cell_type": "code",
   "execution_count": 6,
   "metadata": {
    "collapsed": false
   },
   "outputs": [
    {
     "data": {
      "image/png": "[encoded data removed]",
      "text/plain": [
       "<matplotlib.figure.Figure at 0x1ca0eacf3c8>"
      ]
     },
     "metadata": {},
     "output_type": "display_data"
    }
   ],
   "source": [
    "# 只取 X 的兩個 features\n",
    "X = iris.data[:, [0, 1]]\n",
    "\n",
    "clf.fit(X, y)\n",
    "\n",
    "# 邊界\n",
    "x_min, y_min = X.min(axis=0)-1\n",
    "x_max, y_max = X.max(axis=0)+1\n",
    "\n",
    "# 座標點\n",
    "grid  = np.mgrid[x_min:x_max:200j, y_min:y_max:200j]\n",
    "# grid.shape = (2, 200, 200)\n",
    "\n",
    "# 在座標點 算出 logistic 的預測\n",
    "Z = clf.predict(grid.reshape(2, -1).T)\n",
    "Z  = Z.reshape(grid.shape[1:])\n",
    "\n",
    "# 畫出顏色和邊界\n",
    "plt.pcolormesh(grid[0], grid[1], Z, cmap=plt.cm.rainbow, alpha=0.02)\n",
    "plt.contour(grid[0], grid[1], Z, colors=['k', 'k', 'k'], linestyles=['-', '-', '-'],\n",
    "                levels=[0, 1, 2])\n",
    "\n",
    "# 標出 sample 點\n",
    "plt.scatter(X[:,0], X[:, 1],  c=y, cmap=plt.cm.rainbow, zorder=10, s=50);"
   ]
  },
  {
   "cell_type": "markdown",
   "metadata": {},
   "source": [
    "## Q\n",
    "* 不同的設定\n",
    "* 不同的圖\n",
    "* 參考 http://scikit-learn.org/stable/auto_examples/tree/plot_iris.html#sphx-glr-auto-examples-tree-plot-iris-py"
   ]
  },
  {
   "cell_type": "markdown",
   "metadata": {},
   "source": [
    "## MNIST"
   ]
  },
  {
   "cell_type": "code",
   "execution_count": 7,
   "metadata": {
    "collapsed": false
   },
   "outputs": [],
   "source": [
    "import gzip\n",
    "import pickle\n",
    "with gzip.open('mnist.pkl.gz', 'rb') as f:\n",
    "    train_set, validation_set, test_set = pickle.load(f, encoding='latin1')\n",
    "    \n",
    "train_X, train_y = train_set\n",
    "test_X, test_y = test_set\n",
    "\n",
    "#PCA\n",
    "from sklearn.decomposition import PCA\n",
    "pca = PCA(n_components=60)\n",
    "train_X = pca.fit_transform(train_set[0])\n",
    "test_X = pca.transform(test_set[0])\n",
    "\n",
    "# use only first 10000 samples\n",
    "#idx = np.random.choice(np.arange(train_X.shape[0]), 30000, replace=False)\n",
    "#train_X = train_X[idx]\n",
    "#train_y = train_y[idx]"
   ]
  },
  {
   "cell_type": "code",
   "execution_count": 8,
   "metadata": {
    "collapsed": true
   },
   "outputs": [],
   "source": [
    "clf = tree.DecisionTreeClassifier()"
   ]
  },
  {
   "cell_type": "code",
   "execution_count": 9,
   "metadata": {
    "collapsed": false
   },
   "outputs": [
    {
     "name": "stdout",
     "output_type": "stream",
     "text": [
      "1 loop, best of 1: 8.21 s per loop\n"
     ]
    }
   ],
   "source": [
    "%%timeit -n 1 -r 1\n",
    "clf.fit(train_X, train_y)"
   ]
  },
  {
   "cell_type": "code",
   "execution_count": 10,
   "metadata": {
    "collapsed": false
   },
   "outputs": [
    {
     "name": "stdout",
     "output_type": "stream",
     "text": [
      "1.0\n",
      "1 loop, best of 1: 22.6 ms per loop\n"
     ]
    }
   ],
   "source": [
    "%%timeit -n 1 -r 1\n",
    "print(np.mean(clf.predict(train_X) == train_y))"
   ]
  },
  {
   "cell_type": "code",
   "execution_count": 11,
   "metadata": {
    "collapsed": false
   },
   "outputs": [
    {
     "name": "stdout",
     "output_type": "stream",
     "text": [
      "0.8343\n",
      "1 loop, best of 1: 4.54 ms per loop\n"
     ]
    }
   ],
   "source": [
    "%%timeit -n 1 -r 1\n",
    "print(np.mean(clf.predict(test_X) == test_y))"
   ]
  },
  {
   "cell_type": "markdown",
   "metadata": {},
   "source": [
    "## Q\n",
    "* 不用 PCA, 直接從圖片像素\n",
    "* 縮小圖片"
   ]
  },
  {
   "cell_type": "code",
   "execution_count": 12,
   "metadata": {
    "collapsed": false
   },
   "outputs": [
    {
     "name": "stdout",
     "output_type": "stream",
     "text": [
      "train: 1.0\n",
      "test: 0.8822\n",
      "1 loop, best of 1: 6.92 s per loop\n"
     ]
    },
    {
     "data": {
      "text/plain": [
       "<matplotlib.figure.Figure at 0x1ca0eacd780>"
      ]
     },
     "metadata": {},
     "output_type": "display_data"
    }
   ],
   "source": [
    "%%timeit -n 1 -r 1\n",
    "%run -i q_dtree_halfsize.py"
   ]
  }
 ],
 "metadata": {
  "kernelspec": {
   "display_name": "Python 3",
   "language": "python",
   "name": "python3"
  },
  "language_info": {
   "codemirror_mode": {
    "name": "ipython",
    "version": 3
   },
   "file_extension": ".py",
   "mimetype": "text/x-python",
   "name": "python",
   "nbconvert_exporter": "python",
   "pygments_lexer": "ipython3",
   "version": "3.6.0"
  }
 },
 "nbformat": 4,
 "nbformat_minor": 0
}
